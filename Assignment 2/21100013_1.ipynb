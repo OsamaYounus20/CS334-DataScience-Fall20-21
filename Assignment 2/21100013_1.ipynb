{
 "cells": [
  {
   "cell_type": "code",
   "execution_count": 30,
   "metadata": {
    "deletable": false,
    "editable": false
   },
   "outputs": [],
   "source": [
    "# Initialize Otter\n",
    "import otter\n",
    "grader = otter.Notebook()"
   ]
  },
  {
   "cell_type": "markdown",
   "metadata": {},
   "source": [
    "# Instructions"
   ]
  },
  {
   "cell_type": "markdown",
   "metadata": {
    "id": "Hf4N4e4HvqZO"
   },
   "source": [
    "## **Assignment Instructions**"
   ]
  },
  {
   "cell_type": "markdown",
   "metadata": {
    "id": "s-iBIogYvxAP"
   },
   "source": [
    "* **How to install 'otter'**: Run `pip install otter-grader` in your Anaconda Command Prompt\n",
    "* **Otter**: It is an autograder that we will be using for grading your notebooks.\n",
    "* **grader.check('qn')**: This command runs test cases for nth question `qn` provided to you and displays the result. But these are not the only test cases, these are provided just for your basic testing. There will be some *hidden test cases* on which your answers will be tested as well.\n",
    "* You are **not** allowed to edit any pre-defined variables and as per the instructions for every question you have to assign your answers to these variables.\n",
    "* Write your answers in place of `...` where prompted\n",
    "* **How to run this on google colab**: Uncomment the below code and replace wherever necessary to run this assignment on google colab (only if you want to - jupyter notebooks work just fine)"
   ]
  },
  {
   "cell_type": "code",
   "execution_count": 31,
   "metadata": {
    "id": "7LoYfWUuDOZi"
   },
   "outputs": [],
   "source": [
    "#Linking google colab to your drive folder\n",
    "#from google.colab import drive\n",
    "#drive.mount('/content/gdrive', force_remount=True)"
   ]
  },
  {
   "cell_type": "code",
   "execution_count": 32,
   "metadata": {
    "colab": {
     "base_uri": "https://localhost:8080/",
     "height": 34
    },
    "executionInfo": {
     "elapsed": 56125,
     "status": "ok",
     "timestamp": 1601920043033,
     "user": {
      "displayName": "Mehreen Masood",
      "photoUrl": "",
      "userId": "17408234481715224398"
     },
     "user_tz": -300
    },
    "id": "7xMsX0eKDS4c",
    "outputId": "6a4de123-513c-4e73-d80b-aa0a9ceecb18"
   },
   "outputs": [],
   "source": [
    "#Replace 'Assignment 2 DS' with the path of the folder of your assignment\n",
    "#%cd /content/gdrive/My\\ Drive/Assignment 2 DS"
   ]
  },
  {
   "cell_type": "markdown",
   "metadata": {
    "id": "z8U7LmpGv5HZ"
   },
   "source": [
    "## **Submission Instructions**"
   ]
  },
  {
   "cell_type": "markdown",
   "metadata": {
    "id": "Gfref2KswE8C"
   },
   "source": [
    "* There are two parts of this assignment. You should name both notebooks as **YourRollNumber_PartNumber.ipynb**. (e.g. this part should be named as *`2XXXXXXX_1.ipynb`*)\n",
    "* You must submit a zip file containg just two notebooks and it must not has any folder or any other file. \n",
    "* The name of the zip file must be your `Roll Number`"
   ]
  },
  {
   "cell_type": "markdown",
   "metadata": {
    "id": "ZZnp_8qEMQMa"
   },
   "source": [
    "## **Grading**"
   ]
  },
  {
   "cell_type": "markdown",
   "metadata": {
    "id": "TcROlKnaMRWk"
   },
   "source": [
    "Grading is broken down into autograded answers and free response.\n",
    "\n",
    "* For autograded answers, the results of your code are compared to provided and/or hidden tests.\n",
    "* There are default assignments in some questions, storing the state of the dataframes at the time of that particular question in '*#_q#*' variables. Do NOT change any of these assignments as they are used by the auto-grader to check your answers.\n",
    "* For free response, readers will evaluate how well you answered the question and/or fulfilled the requirements of the question."
   ]
  },
  {
   "cell_type": "markdown",
   "metadata": {
    "id": "ZFLz2WUgD5Eg"
   },
   "source": [
    "# **World Happiness Report**"
   ]
  },
  {
   "cell_type": "markdown",
   "metadata": {
    "id": "3ViBr4qFEAWV"
   },
   "source": [
    "## **Introduction**"
   ]
  },
  {
   "cell_type": "markdown",
   "metadata": {
    "id": "W-RZpZOwENWK"
   },
   "source": [
    "Happiness has always been one of those fluctuating emotional states for humans, perhaps more so in light of recent events. With reports by 'World Happiness Report', publication of the Sustainable Development Solutions Network, coming in every year, you have decided to embark on a journey to uncover just how happy the citizens of countries around the world perceive themselves to be. \n",
    "\n",
    "But how can happiness be measured? Are there reliable comparisons of happiness across time and space that can give us clues regarding what makes people or even countries to declare themselves as ‘happy’? Well, this is exactly what our task is.\n",
    "\n",
    "In this assignment, we aim to analyse the data and empirical evidence that might answer these questions. Our focus here will be on survey-based measures of self-reported happiness and life satisfaction. \n",
    "\n"
   ]
  },
  {
   "cell_type": "markdown",
   "metadata": {
    "id": "4iKACtAqEONv"
   },
   "source": [
    "### **Getting Familiar with our Data**"
   ]
  },
  {
   "cell_type": "markdown",
   "metadata": {
    "id": "BLJyH0YqKu7T"
   },
   "source": [
    "In this assignment, we will analyze World Happiness datasets from years 2015, 2017, \n",
    "and 2019, each having about 158 countries and different attributes. \n",
    "\n",
    "The variables used reflect what has been broadly found in the research literature to be important in explaining national-level differences in life evaluations. Some important variables, such as unemployment or inequality, do not appear because comparable international data are not yet available for the full sample of countries. The values for the attributes other than score/rank are to be interpreted as ratings for each of the variables, with higher ratings representing countries that are more favorable in those variables."
   ]
  },
  {
   "cell_type": "markdown",
   "metadata": {
    "id": "L8w0kFBYGZ4F"
   },
   "source": [
    "| Variable Name      | Variable Description   |\n",
    "| ----------- | ----------- |\n",
    "| Country      | Name of the country       |\n",
    "| Region   | \tThe region that country belongs to        |\n",
    "| Happiness Score   | \tA metric asking the sampled people the question: “How would you rate your happiness on a scale of 0 to 10 where 10 is the happiest”  |\n",
    "| Happiness Rank/Overall Rank   | \tRank of the country based on happiness score    |\n",
    "|Economy (GDP per capita)   | \tThe extent to which GDP contributes to the calculation of the Happiness Score.    |\n",
    "|Family/Social support   | The national average of the binary responses (either 0 or 1) to the question “If you were in trouble, do you have relatives or friends you can count on to help you whenever you need them, or not?”    |\n",
    "|Health (Life Expectancy)   | \tThe extent to which Life Expectancy contributes to the calculation of the Happiness Score.   |\n",
    "|Freedom  | The national average of binary responses (either 0 or 1) to the question “Are you satisfied or dissatisfied with your freedom to choose what you do with your life?” |\n",
    "|Trust | \tThe national average of the binary responses (either 0 or 1) to the two questions asking about how widespread they think corruption is in the government. |\n",
    "|Generosity| The residual of regressing national average of binary responses (either 0 or 1) to the question “Have you donated money to a charity in the past month?” on GDP per capita.|\n",
    "|Dystopia Residuals|The benchmark country corresponding to the lowest possible values in each of the criteria, to aid in a comparison.|"
   ]
  },
  {
   "cell_type": "markdown",
   "metadata": {
    "id": "txMt0I15MWls"
   },
   "source": [
    "\n",
    "\n",
    "*   The datasets have a lot of problems regarding consistency in the variety of variables measured across the years.\n",
    "*  The goal for the first part of this assignment is to clean and merge the data so it can be later used for insightful analysis.\n",
    "\n"
   ]
  },
  {
   "cell_type": "markdown",
   "metadata": {
    "id": "oztY39kLMnQk"
   },
   "source": [
    "### **Importing Libraries**"
   ]
  },
  {
   "cell_type": "code",
   "execution_count": 33,
   "metadata": {
    "colab": {
     "base_uri": "https://localhost:8080/",
     "height": 72
    },
    "executionInfo": {
     "elapsed": 57543,
     "status": "ok",
     "timestamp": 1601920044470,
     "user": {
      "displayName": "Mehreen Masood",
      "photoUrl": "",
      "userId": "17408234481715224398"
     },
     "user_tz": -300
    },
    "id": "E9Uz1F6BMjcA",
    "outputId": "a0eb0b5d-9429-4c08-c5ff-338d7f1e029e"
   },
   "outputs": [],
   "source": [
    "import pandas as pd"
   ]
  },
  {
   "cell_type": "markdown",
   "metadata": {
    "id": "WUQdLrulMqrd"
   },
   "source": [
    "### **Loading Data**"
   ]
  },
  {
   "cell_type": "code",
   "execution_count": 34,
   "metadata": {
    "id": "m43AbvU2MvBB"
   },
   "outputs": [],
   "source": [
    "df_2015 = pd.read_csv('2015.csv')\n",
    "df_2017 = pd.read_csv('2017.csv')\n",
    "df_2019 = pd.read_csv('2019.csv')"
   ]
  },
  {
   "cell_type": "markdown",
   "metadata": {
    "id": "60rw30antYd8"
   },
   "source": [
    "## **Data Cleaning**"
   ]
  },
  {
   "cell_type": "markdown",
   "metadata": {
    "id": "D1t4-9tqMvq_"
   },
   "source": [
    "### **Cleaning Part 1: Examining the Data**"
   ]
  },
  {
   "cell_type": "markdown",
   "metadata": {
    "deletable": false,
    "editable": false,
    "id": "BjzfWnn4NhE6"
   },
   "source": [
    "<!-- BEGIN QUESTION -->\n",
    "\n",
    "**Question 1:** What is the granularity of the data (i.e. what does each row represent)?\n",
    "\n",
    "*Answering Guidelines:* a placeholder for your answer has been made - simply add your answer in the markdown cell below as instructed.\n",
    "\n",
    "<!--\n",
    "BEGIN QUESTION\n",
    "name: q1\n",
    "points: 1\n",
    "manual: true\n",
    "-->"
   ]
  },
  {
   "cell_type": "markdown",
   "metadata": {},
   "source": [
    "The granularity of data is fine grained when it comes to country wide analysis as none of the variable is a combination of multiple variables and it is presented in simple numerical form where we dont have to extract anything from those values and just simply use them. It would be coarse grained if we see it from a persons perspective because each variable represents the average of the values for people from that country. So each row here represents a country and containes tha values for a variable representing a factor that contributes to the happiness of the people living in that country."
   ]
  },
  {
   "cell_type": "markdown",
   "metadata": {
    "deletable": false,
    "editable": false,
    "id": "ZaBFXzFJ-VJM"
   },
   "source": [
    "<!-- END QUESTION -->\n",
    "\n",
    "<!-- BEGIN QUESTION -->\n",
    "\n",
    "**Question 2:** What other meaningful insights could you have extracted from this dataset apart from what you did in this assignment? Also, comment on the quality of data available and give suggestions on how the data could have been better.\n",
    "\n",
    "**Note:** Come to this question at the end of the assignment.\n",
    "\n",
    "*Answering Guidelines:* a placeholder for your answer has been made - simply add your answer in the markdown cell below as instructed.\n",
    "\n",
    "<!--\n",
    "BEGIN QUESTION\n",
    "name: q2\n",
    "points: 5\n",
    "manual: true\n",
    "-->"
   ]
  },
  {
   "cell_type": "markdown",
   "metadata": {},
   "source": [
    "We could have made comparissions of different variables with the rank/score of each country and that would have given us a common trend of what is the most important factor contributing to happiness and how an increase or decrease in that particular value affects the score/rank of that country. We could also have observed countries which have recorded a continious increase or a  continious decrease in their ranks/scores across the 3 data sets and then studied what factors are contributing to that. We can also observe these trends to predict the top 10 and bottom 10 countries for the upcoming year. We could also have observeded anamolies for eg Country X has all its variables declining but its score does not seem to decline. The quality of data given was good as the data types were consistent across years. There were few missing values in the data which resulted in estimations. Some countries also weren't consistent across years which resulted in losing data for those inconsistent countries. This could be improved by keeping countries consistent across years. Moreover, the variables should also be consistent. The regions should have been smaller so that they do not have a disparity that some regeions contain such a huge amount of countries while some contain countries within the single digit. "
   ]
  },
  {
   "cell_type": "markdown",
   "metadata": {
    "id": "HBVIBF-NN_VE"
   },
   "source": [
    "<!-- END QUESTION -->\n",
    "\n",
    "\n",
    "\n",
    "### **Cleaning Part 2: Data Preparation**"
   ]
  },
  {
   "cell_type": "markdown",
   "metadata": {
    "id": "3r-xwG46VY0b"
   },
   "source": [
    "#### **2A: Data Summary**"
   ]
  },
  {
   "cell_type": "markdown",
   "metadata": {
    "id": "BVqmOlVJOT6u"
   },
   "source": [
    "Before beginning to clean our datasets, lets take a look at how our data looks. You will be examining the datasets using the following:\n",
    "\n",
    "*   Use .head() to examine the first 5 rows of each dataset\n",
    "*   Use .shape() to examine the number of rows and columns in each dataset\n",
    "*   Use an appropriate pandas function which displays a summary of the dataset, including the min,max etc.\n",
    "*   Use an appropriate pandas function which displays a summary of the datatype for each column within the dataset.\n",
    "\n",
    "\n",
    "\n",
    "\n"
   ]
  },
  {
   "cell_type": "markdown",
   "metadata": {
    "deletable": false,
    "editable": false,
    "id": "J0t_HApKPYa7"
   },
   "source": [
    "**Question 3:** Perform the above mentioned functions on the data from 2015\n",
    "\n",
    "*Answering Guidelines:* Store your answers in the appropriate variables\n",
    "* q3_head = stores the output of the first requirement listed above\n",
    "* q3_shape = stores the output of the second requirement listed above\n",
    "* q3_summary = stores the output of the third requirement listed above\n",
    "* q3_datatype = stores the output of the fourth requirement listed above\n",
    "\n",
    "<!--\n",
    "BEGIN QUESTION\n",
    "name: q3\n",
    "points: 4\n",
    "-->"
   ]
  },
  {
   "cell_type": "code",
   "execution_count": 35,
   "metadata": {
    "colab": {
     "base_uri": "https://localhost:8080/",
     "height": 314
    },
    "executionInfo": {
     "elapsed": 58878,
     "status": "ok",
     "timestamp": 1601920045827,
     "user": {
      "displayName": "Mehreen Masood",
      "photoUrl": "",
      "userId": "17408234481715224398"
     },
     "user_tz": -300
    },
    "id": "fu6F8EqwPbvG",
    "outputId": "a4824bf9-1b4f-4712-83c7-3a9207a93b8a"
   },
   "outputs": [
    {
     "data": {
      "text/plain": [
       "Country                           object\n",
       "Region                            object\n",
       "Happiness Rank                     int64\n",
       "Happiness Score                  float64\n",
       "Standard Error                   float64\n",
       "Economy (GDP per Capita)         float64\n",
       "Family                           float64\n",
       "Health (Life Expectancy)         float64\n",
       "Freedom                          float64\n",
       "Trust (Government Corruption)    float64\n",
       "Generosity                        object\n",
       "Dystopia Residual                float64\n",
       "dtype: object"
      ]
     },
     "execution_count": 35,
     "metadata": {},
     "output_type": "execute_result"
    }
   ],
   "source": [
    "q3_head = df_2015.head()\n",
    "# q3_head\n",
    "q3_shape = df_2015.shape\n",
    "# q3_shape\n",
    "q3_summary = df_2015.describe()\n",
    "# q3_summary\n",
    "q3_datatype = df_2015.dtypes\n",
    "q3_datatype"
   ]
  },
  {
   "cell_type": "code",
   "execution_count": 36,
   "metadata": {
    "deletable": false,
    "editable": false
   },
   "outputs": [
    {
     "data": {
      "text/html": [
       "\n",
       "    \n",
       "    \n",
       "        <p>All tests passed!</p>\n",
       "    \n",
       "    "
      ],
      "text/plain": [
       "\n",
       "    All tests passed!\n",
       "    "
      ]
     },
     "execution_count": 36,
     "metadata": {},
     "output_type": "execute_result"
    }
   ],
   "source": [
    "grader.check(\"q3\")"
   ]
  },
  {
   "cell_type": "markdown",
   "metadata": {
    "deletable": false,
    "editable": false,
    "id": "wb5zs8R5QbPK"
   },
   "source": [
    "**Question 4:** Perform the above mentioned functions on the data from 2017\n",
    "\n",
    "*Answering Guidelines:* Store your answers in the appropriate variables\n",
    "* q4_head = stores the output of the first requirement listed above\n",
    "* q4_shape = stores the output of the second requirement listed above\n",
    "* q4_summary = stores the output of the third requirement listed above\n",
    "* q4_datatype = stores the output of the fourth requirement listed above\n",
    "\n",
    "<!--\n",
    "BEGIN QUESTION\n",
    "name: q4\n",
    "points: 4\n",
    "-->"
   ]
  },
  {
   "cell_type": "code",
   "execution_count": 37,
   "metadata": {},
   "outputs": [
    {
     "data": {
      "text/plain": [
       "Country                           object\n",
       "Happiness.Rank                     int64\n",
       "Happiness.Score                  float64\n",
       "Whisker.high                     float64\n",
       "Whisker.low                      float64\n",
       "Economy..GDP.per.Capita.         float64\n",
       "Family                            object\n",
       "Health..Life.Expectancy.         float64\n",
       "Freedom                          float64\n",
       "Generosity                       float64\n",
       "Trust..Government.Corruption.    float64\n",
       "Dystopia.Residual                float64\n",
       "dtype: object"
      ]
     },
     "execution_count": 37,
     "metadata": {},
     "output_type": "execute_result"
    }
   ],
   "source": [
    "q4_head = df_2017.head()\n",
    "q4_shape = df_2017.shape\n",
    "q4_summary = df_2017.describe()\n",
    "q4_datatype = df_2017.dtypes\n",
    "q4_datatype"
   ]
  },
  {
   "cell_type": "code",
   "execution_count": 38,
   "metadata": {
    "deletable": false,
    "editable": false
   },
   "outputs": [
    {
     "data": {
      "text/html": [
       "\n",
       "    \n",
       "    \n",
       "        <p>All tests passed!</p>\n",
       "    \n",
       "    "
      ],
      "text/plain": [
       "\n",
       "    All tests passed!\n",
       "    "
      ]
     },
     "execution_count": 38,
     "metadata": {},
     "output_type": "execute_result"
    }
   ],
   "source": [
    "grader.check(\"q4\")"
   ]
  },
  {
   "cell_type": "markdown",
   "metadata": {
    "deletable": false,
    "editable": false,
    "id": "0-MheInfQdO5"
   },
   "source": [
    "**Question 5:** Perform the above mentioned functions on the data from 2019\n",
    "\n",
    "*Answering Guidelines:* Store your answers in the appropriate variables\n",
    "* q5_head = stores the output of the first requirement listed above\n",
    "* q5_shape = stores the output of the second requirement listed above\n",
    "* q5_summary = stores the output of the third requirement listed above\n",
    "* q5_datatype = stores the output of the fourth requirement listed above\n",
    "\n",
    "<!--\n",
    "BEGIN QUESTION\n",
    "name: q5\n",
    "points: 4\n",
    "-->"
   ]
  },
  {
   "cell_type": "code",
   "execution_count": 39,
   "metadata": {},
   "outputs": [
    {
     "data": {
      "text/plain": [
       "Overall rank                      int64\n",
       "Country or region                object\n",
       "Score                           float64\n",
       "GDP per capita                  float64\n",
       "Social support                  float64\n",
       "Healthy life expectancy         float64\n",
       "Freedom to make life choices     object\n",
       "Generosity                      float64\n",
       "Perceptions of corruption       float64\n",
       "dtype: object"
      ]
     },
     "execution_count": 39,
     "metadata": {},
     "output_type": "execute_result"
    }
   ],
   "source": [
    "q5_head = df_2019.head()\n",
    "q5_shape = df_2019.shape\n",
    "q5_summary = df_2019.describe()\n",
    "q5_summary\n",
    "q5_datatype = df_2019.dtypes\n",
    "q5_datatype"
   ]
  },
  {
   "cell_type": "code",
   "execution_count": 40,
   "metadata": {
    "deletable": false,
    "editable": false
   },
   "outputs": [
    {
     "data": {
      "text/html": [
       "\n",
       "    \n",
       "    \n",
       "        <p>All tests passed!</p>\n",
       "    \n",
       "    "
      ],
      "text/plain": [
       "\n",
       "    All tests passed!\n",
       "    "
      ]
     },
     "execution_count": 40,
     "metadata": {},
     "output_type": "execute_result"
    }
   ],
   "source": [
    "grader.check(\"q5\")"
   ]
  },
  {
   "cell_type": "markdown",
   "metadata": {
    "id": "KN1DwZ4AVWND"
   },
   "source": [
    "#### **2B: Negative Values + Data Inconsistency**"
   ]
  },
  {
   "cell_type": "markdown",
   "metadata": {},
   "source": [
    "##### Negative values"
   ]
  },
  {
   "cell_type": "markdown",
   "metadata": {
    "deletable": false,
    "editable": false,
    "id": "JQtjNoGiV3aD"
   },
   "source": [
    "While preparing the assignment, we accidentally inverted the signs of one of the columns from the datasets. \n",
    "\n",
    "**Question 6:** Find the column and correct this mistake to continue working on your assignment. Make sure the column has been updated in the original dataframe as well.\n",
    "\n",
    "Hints: Go back to the summaries of the yearly datasets to find which column. Map and lambda functions would prove to be useful here.\n",
    "\n",
    "<!--\n",
    "BEGIN QUESTION\n",
    "name: q6\n",
    "points: 2\n",
    "-->"
   ]
  },
  {
   "cell_type": "code",
   "execution_count": 41,
   "metadata": {
    "id": "G-pgILXZV1-p"
   },
   "outputs": [
    {
     "data": {
      "text/html": [
       "<div>\n",
       "<style scoped>\n",
       "    .dataframe tbody tr th:only-of-type {\n",
       "        vertical-align: middle;\n",
       "    }\n",
       "\n",
       "    .dataframe tbody tr th {\n",
       "        vertical-align: top;\n",
       "    }\n",
       "\n",
       "    .dataframe thead th {\n",
       "        text-align: right;\n",
       "    }\n",
       "</style>\n",
       "<table border=\"1\" class=\"dataframe\">\n",
       "  <thead>\n",
       "    <tr style=\"text-align: right;\">\n",
       "      <th></th>\n",
       "      <th>Overall rank</th>\n",
       "      <th>Country or region</th>\n",
       "      <th>Score</th>\n",
       "      <th>GDP per capita</th>\n",
       "      <th>Social support</th>\n",
       "      <th>Healthy life expectancy</th>\n",
       "      <th>Freedom to make life choices</th>\n",
       "      <th>Generosity</th>\n",
       "      <th>Perceptions of corruption</th>\n",
       "    </tr>\n",
       "  </thead>\n",
       "  <tbody>\n",
       "    <tr>\n",
       "      <th>0</th>\n",
       "      <td>1</td>\n",
       "      <td>\"Finland\"</td>\n",
       "      <td>7.769</td>\n",
       "      <td>1.340</td>\n",
       "      <td>1.587</td>\n",
       "      <td>0.986</td>\n",
       "      <td>\"0.596\"</td>\n",
       "      <td>0.153</td>\n",
       "      <td>0.393</td>\n",
       "    </tr>\n",
       "    <tr>\n",
       "      <th>1</th>\n",
       "      <td>2</td>\n",
       "      <td>\"Denmark\"</td>\n",
       "      <td>7.600</td>\n",
       "      <td>1.383</td>\n",
       "      <td>1.573</td>\n",
       "      <td>0.996</td>\n",
       "      <td>\"0.5920000000000001\"</td>\n",
       "      <td>0.252</td>\n",
       "      <td>0.410</td>\n",
       "    </tr>\n",
       "    <tr>\n",
       "      <th>2</th>\n",
       "      <td>3</td>\n",
       "      <td>\"Norway\"</td>\n",
       "      <td>7.554</td>\n",
       "      <td>1.488</td>\n",
       "      <td>1.582</td>\n",
       "      <td>1.028</td>\n",
       "      <td>\"0.603\"</td>\n",
       "      <td>0.271</td>\n",
       "      <td>0.341</td>\n",
       "    </tr>\n",
       "    <tr>\n",
       "      <th>3</th>\n",
       "      <td>4</td>\n",
       "      <td>\"Iceland\"</td>\n",
       "      <td>7.494</td>\n",
       "      <td>1.380</td>\n",
       "      <td>1.624</td>\n",
       "      <td>1.026</td>\n",
       "      <td>\"0.591\"</td>\n",
       "      <td>0.354</td>\n",
       "      <td>0.118</td>\n",
       "    </tr>\n",
       "    <tr>\n",
       "      <th>4</th>\n",
       "      <td>5</td>\n",
       "      <td>\"Netherlands\"</td>\n",
       "      <td>7.488</td>\n",
       "      <td>1.396</td>\n",
       "      <td>1.522</td>\n",
       "      <td>0.999</td>\n",
       "      <td>\"0.557\"</td>\n",
       "      <td>0.322</td>\n",
       "      <td>0.298</td>\n",
       "    </tr>\n",
       "    <tr>\n",
       "      <th>...</th>\n",
       "      <td>...</td>\n",
       "      <td>...</td>\n",
       "      <td>...</td>\n",
       "      <td>...</td>\n",
       "      <td>...</td>\n",
       "      <td>...</td>\n",
       "      <td>...</td>\n",
       "      <td>...</td>\n",
       "      <td>...</td>\n",
       "    </tr>\n",
       "    <tr>\n",
       "      <th>151</th>\n",
       "      <td>152</td>\n",
       "      <td>\"Rwanda\"</td>\n",
       "      <td>3.334</td>\n",
       "      <td>0.359</td>\n",
       "      <td>0.711</td>\n",
       "      <td>0.614</td>\n",
       "      <td>\"0.555\"</td>\n",
       "      <td>0.217</td>\n",
       "      <td>0.411</td>\n",
       "    </tr>\n",
       "    <tr>\n",
       "      <th>152</th>\n",
       "      <td>153</td>\n",
       "      <td>\"Tanzania\"</td>\n",
       "      <td>3.231</td>\n",
       "      <td>0.476</td>\n",
       "      <td>0.885</td>\n",
       "      <td>0.499</td>\n",
       "      <td>\"0.41700000000000004\"</td>\n",
       "      <td>0.276</td>\n",
       "      <td>0.147</td>\n",
       "    </tr>\n",
       "    <tr>\n",
       "      <th>153</th>\n",
       "      <td>154</td>\n",
       "      <td>\"Afghanistan\"</td>\n",
       "      <td>3.203</td>\n",
       "      <td>0.350</td>\n",
       "      <td>0.517</td>\n",
       "      <td>0.361</td>\n",
       "      <td>\"0.0\"</td>\n",
       "      <td>0.158</td>\n",
       "      <td>0.025</td>\n",
       "    </tr>\n",
       "    <tr>\n",
       "      <th>154</th>\n",
       "      <td>155</td>\n",
       "      <td>\"Central African Republic\"</td>\n",
       "      <td>3.083</td>\n",
       "      <td>0.026</td>\n",
       "      <td>0.000</td>\n",
       "      <td>0.105</td>\n",
       "      <td>\"0.225\"</td>\n",
       "      <td>0.235</td>\n",
       "      <td>0.035</td>\n",
       "    </tr>\n",
       "    <tr>\n",
       "      <th>155</th>\n",
       "      <td>156</td>\n",
       "      <td>\"South Sudan\"</td>\n",
       "      <td>2.853</td>\n",
       "      <td>0.306</td>\n",
       "      <td>0.575</td>\n",
       "      <td>0.295</td>\n",
       "      <td>\"0.01\"</td>\n",
       "      <td>0.202</td>\n",
       "      <td>0.091</td>\n",
       "    </tr>\n",
       "  </tbody>\n",
       "</table>\n",
       "<p>156 rows × 9 columns</p>\n",
       "</div>"
      ],
      "text/plain": [
       "     Overall rank           Country or region  Score  GDP per capita  \\\n",
       "0               1                   \"Finland\"  7.769           1.340   \n",
       "1               2                   \"Denmark\"  7.600           1.383   \n",
       "2               3                    \"Norway\"  7.554           1.488   \n",
       "3               4                   \"Iceland\"  7.494           1.380   \n",
       "4               5               \"Netherlands\"  7.488           1.396   \n",
       "..            ...                         ...    ...             ...   \n",
       "151           152                    \"Rwanda\"  3.334           0.359   \n",
       "152           153                  \"Tanzania\"  3.231           0.476   \n",
       "153           154               \"Afghanistan\"  3.203           0.350   \n",
       "154           155  \"Central African Republic\"  3.083           0.026   \n",
       "155           156               \"South Sudan\"  2.853           0.306   \n",
       "\n",
       "     Social support  Healthy life expectancy Freedom to make life choices  \\\n",
       "0             1.587                    0.986                      \"0.596\"   \n",
       "1             1.573                    0.996         \"0.5920000000000001\"   \n",
       "2             1.582                    1.028                      \"0.603\"   \n",
       "3             1.624                    1.026                      \"0.591\"   \n",
       "4             1.522                    0.999                      \"0.557\"   \n",
       "..              ...                      ...                          ...   \n",
       "151           0.711                    0.614                      \"0.555\"   \n",
       "152           0.885                    0.499        \"0.41700000000000004\"   \n",
       "153           0.517                    0.361                        \"0.0\"   \n",
       "154           0.000                    0.105                      \"0.225\"   \n",
       "155           0.575                    0.295                       \"0.01\"   \n",
       "\n",
       "     Generosity  Perceptions of corruption  \n",
       "0         0.153                      0.393  \n",
       "1         0.252                      0.410  \n",
       "2         0.271                      0.341  \n",
       "3         0.354                      0.118  \n",
       "4         0.322                      0.298  \n",
       "..          ...                        ...  \n",
       "151       0.217                      0.411  \n",
       "152       0.276                      0.147  \n",
       "153       0.158                      0.025  \n",
       "154       0.235                      0.035  \n",
       "155       0.202                      0.091  \n",
       "\n",
       "[156 rows x 9 columns]"
      ]
     },
     "execution_count": 41,
     "metadata": {},
     "output_type": "execute_result"
    }
   ],
   "source": [
    "Corrected_column = df_2019['Score'].map(lambda x: -x)\n",
    "Corrected_column\n",
    "Score = pd.DataFrame({'Score' : Corrected_column})\n",
    "df_2019.update(Score)\n",
    "df_2019"
   ]
  },
  {
   "cell_type": "code",
   "execution_count": 42,
   "metadata": {
    "deletable": false,
    "editable": false
   },
   "outputs": [
    {
     "data": {
      "text/html": [
       "\n",
       "    \n",
       "    \n",
       "        <p>All tests passed!</p>\n",
       "    \n",
       "    "
      ],
      "text/plain": [
       "\n",
       "    All tests passed!\n",
       "    "
      ]
     },
     "execution_count": 42,
     "metadata": {},
     "output_type": "execute_result"
    }
   ],
   "source": [
    "grader.check(\"q6\")"
   ]
  },
  {
   "cell_type": "markdown",
   "metadata": {},
   "source": [
    "##### Column formats"
   ]
  },
  {
   "cell_type": "markdown",
   "metadata": {
    "id": "k1vhMFuwXAm5"
   },
   "source": [
    "For the columns mentioned below, their values have quotes around them ('') which need to be cleaned. You might also need to fix datatypes after having cleaned them, pandas documentation is your friend so use it!\n",
    "\n",
    "\n",
    "\n",
    "\n",
    "\n"
   ]
  },
  {
   "cell_type": "markdown",
   "metadata": {
    "deletable": false,
    "editable": false,
    "id": "PjL1icF-kEBK"
   },
   "source": [
    "**Question 7:** Do the above mentioned task for the 'Country' and 'Generosity' columns in the 2015 dataset.\n",
    "\n",
    "*Answering Guidelines:* As guided by the comments, first clean for quotes and then fix datatypes **if need be**. Assign the final answer to the columns provided below, that is, ```df_2015['Country']``` and ```df_2015['Generosity']``` should have perfectly cleaned values with correct datatypes in them.\n",
    "\n",
    "<!--\n",
    "BEGIN QUESTION\n",
    "name: q7\n",
    "points: 3\n",
    "-->"
   ]
  },
  {
   "cell_type": "code",
   "execution_count": 43,
   "metadata": {
    "id": "BUI7bzKuX2PK"
   },
   "outputs": [],
   "source": [
    "df_2015[\"Country\"] = df_2015[\"Country\"].str.replace('\"', '')\n",
    "df_2015[\"Country\"]\n",
    "df_2015[\"Generosity\"] = df_2015[\"Generosity\"].str.replace('\"', '').astype('float64', copy=False)\n",
    "df_2015_q7 = df_2015.copy()\n",
    "# datatype = df_2015.dtypes\n",
    "# datatype"
   ]
  },
  {
   "cell_type": "code",
   "execution_count": 44,
   "metadata": {
    "deletable": false,
    "editable": false
   },
   "outputs": [
    {
     "data": {
      "text/html": [
       "\n",
       "    \n",
       "    \n",
       "        <p>All tests passed!</p>\n",
       "    \n",
       "    "
      ],
      "text/plain": [
       "\n",
       "    All tests passed!\n",
       "    "
      ]
     },
     "execution_count": 44,
     "metadata": {},
     "output_type": "execute_result"
    }
   ],
   "source": [
    "grader.check(\"q7\")"
   ]
  },
  {
   "cell_type": "markdown",
   "metadata": {
    "deletable": false,
    "editable": false,
    "id": "Rc7jp6RokI_u"
   },
   "source": [
    "**Question 8:** Do the above mentioned task for the 'Country' and 'Family' columns in the 2017 dataset.\n",
    "\n",
    "*Answering Guidelines:* As guided by the comments, first clean for quotes and then fix datatypes **if need be**. Assign the final answer to the columns provided below, that is, ```df_2017['Country']``` and ```df_2017['Family']``` should have perfectly cleaned values with correct datatypes in them.\n",
    "\n",
    "<!--\n",
    "BEGIN QUESTION\n",
    "name: q8\n",
    "points: 3\n",
    "-->"
   ]
  },
  {
   "cell_type": "code",
   "execution_count": 45,
   "metadata": {},
   "outputs": [
    {
     "data": {
      "text/plain": [
       "Country                           object\n",
       "Happiness.Rank                     int64\n",
       "Happiness.Score                  float64\n",
       "Whisker.high                     float64\n",
       "Whisker.low                      float64\n",
       "Economy..GDP.per.Capita.         float64\n",
       "Family                           float64\n",
       "Health..Life.Expectancy.         float64\n",
       "Freedom                          float64\n",
       "Generosity                       float64\n",
       "Trust..Government.Corruption.    float64\n",
       "Dystopia.Residual                float64\n",
       "dtype: object"
      ]
     },
     "execution_count": 45,
     "metadata": {},
     "output_type": "execute_result"
    }
   ],
   "source": [
    "df_2017.dtypes\n",
    "df_2017[\"Country\"] = df_2017[\"Country\"].str.replace('\"', '')\n",
    "df_2017\n",
    "df_2017[\"Family\"] = df_2017[\"Family\"].str.replace('\"', '').astype('float64', copy=False)\n",
    "df_2017_q8 = df_2017.copy()\n",
    "df_2017.dtypes"
   ]
  },
  {
   "cell_type": "code",
   "execution_count": 46,
   "metadata": {
    "deletable": false,
    "editable": false
   },
   "outputs": [
    {
     "data": {
      "text/html": [
       "\n",
       "    \n",
       "    \n",
       "        <p>All tests passed!</p>\n",
       "    \n",
       "    "
      ],
      "text/plain": [
       "\n",
       "    All tests passed!\n",
       "    "
      ]
     },
     "execution_count": 46,
     "metadata": {},
     "output_type": "execute_result"
    }
   ],
   "source": [
    "grader.check(\"q8\")"
   ]
  },
  {
   "cell_type": "markdown",
   "metadata": {
    "deletable": false,
    "editable": false,
    "id": "f6I2-Uy-kLSQ"
   },
   "source": [
    "**Question 9:**  Do the above mentioned task for the 'Country or region' and 'Freedom' columns in the 2019 dataset.\n",
    "\n",
    "*Answering Guidelines:* As guided by the comments, first clean for quotes and then fix datatypes **if need be**. Assign the final answer to the columns provided below, that is, ```df_2019['Country or region']``` and ```df_2019['Freedom']``` should have perfectly cleaned values with correct datatypes in them.\n",
    "\n",
    "<!--\n",
    "BEGIN QUESTION\n",
    "name: q9\n",
    "points: 3\n",
    "-->"
   ]
  },
  {
   "cell_type": "code",
   "execution_count": 47,
   "metadata": {},
   "outputs": [],
   "source": [
    "df_2019[\"Country or region\"] = df_2019[\"Country or region\"].str.replace('\"', '')\n",
    "df_2019[\"Freedom to make life choices\"] = df_2019[\"Freedom to make life choices\"].str.replace('\"', '').astype(\n",
    "    'float64', copy=False)\n",
    "df_2019\n",
    "df_2019_q9 = df_2019.copy()"
   ]
  },
  {
   "cell_type": "code",
   "execution_count": 48,
   "metadata": {
    "deletable": false,
    "editable": false
   },
   "outputs": [
    {
     "data": {
      "text/html": [
       "\n",
       "    \n",
       "    \n",
       "        <p>All tests passed!</p>\n",
       "    \n",
       "    "
      ],
      "text/plain": [
       "\n",
       "    All tests passed!\n",
       "    "
      ]
     },
     "execution_count": 48,
     "metadata": {},
     "output_type": "execute_result"
    }
   ],
   "source": [
    "grader.check(\"q9\")"
   ]
  },
  {
   "cell_type": "markdown",
   "metadata": {
    "deletable": false,
    "editable": false,
    "id": "zcxPwjZrsdhd"
   },
   "source": [
    "##### **Missing Values**\n",
    "\n",
    "**Question 10:** For each year, check which columns have missing values. Then deal with them using the most appropriate method.\n",
    "For help, see:\n",
    "[How to Deal with Missing Data in Python](https://towardsdatascience.com/how-to-deal-with-missing-data-in-python-1f74a9112d93)\n",
    "\n",
    "*Answering Guidelines:* The placeholders for ```df_2015```, ```df_2017``` and ```df_2019``` should have the dataframes with zero null values - essentially deal with the missing values and store the final answer in them.\n",
    "\n",
    "<!--\n",
    "BEGIN QUESTION\n",
    "name: q10\n",
    "points: 3\n",
    "-->"
   ]
  },
  {
   "cell_type": "code",
   "execution_count": 49,
   "metadata": {
    "id": "XS0nURT0slPQ"
   },
   "outputs": [
    {
     "name": "stdout",
     "output_type": "stream",
     "text": [
      "Country                          0\n",
      "Region                           0\n",
      "Happiness Rank                   0\n",
      "Happiness Score                  0\n",
      "Standard Error                   0\n",
      "Economy (GDP per Capita)         0\n",
      "Family                           0\n",
      "Health (Life Expectancy)         0\n",
      "Freedom                          0\n",
      "Trust (Government Corruption)    0\n",
      "Generosity                       0\n",
      "Dystopia Residual                0\n",
      "dtype: int64\n",
      "Country                          0\n",
      "Happiness.Rank                   0\n",
      "Happiness.Score                  0\n",
      "Whisker.high                     0\n",
      "Whisker.low                      0\n",
      "Economy..GDP.per.Capita.         0\n",
      "Family                           0\n",
      "Health..Life.Expectancy.         0\n",
      "Freedom                          0\n",
      "Generosity                       0\n",
      "Trust..Government.Corruption.    0\n",
      "Dystopia.Residual                0\n",
      "dtype: int64\n",
      "Overall rank                    0\n",
      "Country or region               0\n",
      "Score                           0\n",
      "GDP per capita                  0\n",
      "Social support                  0\n",
      "Healthy life expectancy         0\n",
      "Freedom to make life choices    0\n",
      "Generosity                      0\n",
      "Perceptions of corruption       0\n",
      "dtype: int64\n"
     ]
    }
   ],
   "source": [
    "# null_2015 = df_2015.isnull().sum()\n",
    "# null_2017 = df_2017.isnull().sum()\n",
    "# null_2019 = df_2019.isnull().sum()\n",
    "\n",
    "# print(null_2015)\n",
    "# display(df_2015)\n",
    "# print(null_2017)\n",
    "# display(df_2017)\n",
    "# print(null_2019)\n",
    "# display(df_2019)\n",
    "\n",
    "df_2015['Happiness Score'].interpolate(method = 'linear', inplace = True)\n",
    "null_2015 = df_2015.isnull().sum()\n",
    "print(null_2015)\n",
    "\n",
    "df_2017['Economy..GDP.per.Capita.'].fillna(df_2017['Economy..GDP.per.Capita.'].mean(), inplace=True)\n",
    "df_2017['Generosity'].fillna(df_2017['Generosity'].mean(), inplace=True)\n",
    "null_2017 = df_2017.isnull().sum()\n",
    "print(null_2017)\n",
    "\n",
    "df_2019['Freedom to make life choices'].fillna(df_2019['Freedom to make life choices'].mean(), inplace=True)\n",
    "df_2019['Perceptions of corruption'].fillna(df_2019['Perceptions of corruption'].mean(), inplace=True)\n",
    "null_2019 = df_2019.isnull().sum()\n",
    "print(null_2019)\n",
    "\n",
    "\n",
    "df_2015 = df_2015\n",
    "df_2017 = df_2017\n",
    "df_2019 = df_2019\n",
    "\n",
    "df_2015_q10 = df_2015.copy()\n",
    "df_2017_q10 = df_2017.copy()\n",
    "df_2019_q10 = df_2019.copy()"
   ]
  },
  {
   "cell_type": "code",
   "execution_count": 50,
   "metadata": {
    "deletable": false,
    "editable": false
   },
   "outputs": [
    {
     "data": {
      "text/html": [
       "\n",
       "    \n",
       "    \n",
       "        <p>All tests passed!</p>\n",
       "    \n",
       "    "
      ],
      "text/plain": [
       "\n",
       "    All tests passed!\n",
       "    "
      ]
     },
     "execution_count": 50,
     "metadata": {},
     "output_type": "execute_result"
    }
   ],
   "source": [
    "grader.check(\"q10\")"
   ]
  },
  {
   "cell_type": "markdown",
   "metadata": {
    "id": "Dcb4WOhxndij"
   },
   "source": [
    "##### **Dropping Columns**"
   ]
  },
  {
   "cell_type": "markdown",
   "metadata": {
    "deletable": false,
    "editable": false,
    "id": "ex_kSjgMlFH0"
   },
   "source": [
    "\n",
    "When it comes to large datasets, you will often find inconsistensies in the amount of data that has been recorded over the years, even if the origin is the same. Similary, for the World Happiness Report, different data was collected over the years out of which some columns might not be useful to us. \n",
    "\n",
    "**Question 11:** Go through all the datasets and drop the columns (**where need be**) that are inconsistent over the years to carry out a fair analysis. \n",
    "\n",
    "Your end result must include the following columns **only** (in each dataset): Country, Region (found only in 2015, but needed for a later task), Happiness Rank, Happiness Score, Economy, Family/Social Support, Freedom, Trust, Generosity, Life Expectancy/Health\n",
    "\n",
    "*Answering Guidelines:* The placeholders for ```df_2015```, ```df_2017``` and ```df_2019``` should have the dataframes consisting of the above mentioned columns. In the case where no such dropping is to take place, simply assign the dataframe back to itself :p\n",
    "\n",
    "<!--\n",
    "BEGIN QUESTION\n",
    "name: q11\n",
    "points: 2\n",
    "-->"
   ]
  },
  {
   "cell_type": "code",
   "execution_count": 51,
   "metadata": {
    "id": "TvtSuJ_dma3D"
   },
   "outputs": [
    {
     "data": {
      "text/html": [
       "<div>\n",
       "<style scoped>\n",
       "    .dataframe tbody tr th:only-of-type {\n",
       "        vertical-align: middle;\n",
       "    }\n",
       "\n",
       "    .dataframe tbody tr th {\n",
       "        vertical-align: top;\n",
       "    }\n",
       "\n",
       "    .dataframe thead th {\n",
       "        text-align: right;\n",
       "    }\n",
       "</style>\n",
       "<table border=\"1\" class=\"dataframe\">\n",
       "  <thead>\n",
       "    <tr style=\"text-align: right;\">\n",
       "      <th></th>\n",
       "      <th>Overall rank</th>\n",
       "      <th>Country or region</th>\n",
       "      <th>Score</th>\n",
       "      <th>GDP per capita</th>\n",
       "      <th>Social support</th>\n",
       "      <th>Healthy life expectancy</th>\n",
       "      <th>Freedom to make life choices</th>\n",
       "      <th>Generosity</th>\n",
       "      <th>Perceptions of corruption</th>\n",
       "    </tr>\n",
       "  </thead>\n",
       "  <tbody>\n",
       "    <tr>\n",
       "      <th>0</th>\n",
       "      <td>1</td>\n",
       "      <td>Finland</td>\n",
       "      <td>7.769</td>\n",
       "      <td>1.340</td>\n",
       "      <td>1.587</td>\n",
       "      <td>0.986</td>\n",
       "      <td>0.596</td>\n",
       "      <td>0.153</td>\n",
       "      <td>0.393</td>\n",
       "    </tr>\n",
       "    <tr>\n",
       "      <th>1</th>\n",
       "      <td>2</td>\n",
       "      <td>Denmark</td>\n",
       "      <td>7.600</td>\n",
       "      <td>1.383</td>\n",
       "      <td>1.573</td>\n",
       "      <td>0.996</td>\n",
       "      <td>0.592</td>\n",
       "      <td>0.252</td>\n",
       "      <td>0.410</td>\n",
       "    </tr>\n",
       "    <tr>\n",
       "      <th>2</th>\n",
       "      <td>3</td>\n",
       "      <td>Norway</td>\n",
       "      <td>7.554</td>\n",
       "      <td>1.488</td>\n",
       "      <td>1.582</td>\n",
       "      <td>1.028</td>\n",
       "      <td>0.603</td>\n",
       "      <td>0.271</td>\n",
       "      <td>0.341</td>\n",
       "    </tr>\n",
       "    <tr>\n",
       "      <th>3</th>\n",
       "      <td>4</td>\n",
       "      <td>Iceland</td>\n",
       "      <td>7.494</td>\n",
       "      <td>1.380</td>\n",
       "      <td>1.624</td>\n",
       "      <td>1.026</td>\n",
       "      <td>0.591</td>\n",
       "      <td>0.354</td>\n",
       "      <td>0.118</td>\n",
       "    </tr>\n",
       "    <tr>\n",
       "      <th>4</th>\n",
       "      <td>5</td>\n",
       "      <td>Netherlands</td>\n",
       "      <td>7.488</td>\n",
       "      <td>1.396</td>\n",
       "      <td>1.522</td>\n",
       "      <td>0.999</td>\n",
       "      <td>0.557</td>\n",
       "      <td>0.322</td>\n",
       "      <td>0.298</td>\n",
       "    </tr>\n",
       "    <tr>\n",
       "      <th>...</th>\n",
       "      <td>...</td>\n",
       "      <td>...</td>\n",
       "      <td>...</td>\n",
       "      <td>...</td>\n",
       "      <td>...</td>\n",
       "      <td>...</td>\n",
       "      <td>...</td>\n",
       "      <td>...</td>\n",
       "      <td>...</td>\n",
       "    </tr>\n",
       "    <tr>\n",
       "      <th>151</th>\n",
       "      <td>152</td>\n",
       "      <td>Rwanda</td>\n",
       "      <td>3.334</td>\n",
       "      <td>0.359</td>\n",
       "      <td>0.711</td>\n",
       "      <td>0.614</td>\n",
       "      <td>0.555</td>\n",
       "      <td>0.217</td>\n",
       "      <td>0.411</td>\n",
       "    </tr>\n",
       "    <tr>\n",
       "      <th>152</th>\n",
       "      <td>153</td>\n",
       "      <td>Tanzania</td>\n",
       "      <td>3.231</td>\n",
       "      <td>0.476</td>\n",
       "      <td>0.885</td>\n",
       "      <td>0.499</td>\n",
       "      <td>0.417</td>\n",
       "      <td>0.276</td>\n",
       "      <td>0.147</td>\n",
       "    </tr>\n",
       "    <tr>\n",
       "      <th>153</th>\n",
       "      <td>154</td>\n",
       "      <td>Afghanistan</td>\n",
       "      <td>3.203</td>\n",
       "      <td>0.350</td>\n",
       "      <td>0.517</td>\n",
       "      <td>0.361</td>\n",
       "      <td>0.000</td>\n",
       "      <td>0.158</td>\n",
       "      <td>0.025</td>\n",
       "    </tr>\n",
       "    <tr>\n",
       "      <th>154</th>\n",
       "      <td>155</td>\n",
       "      <td>Central African Republic</td>\n",
       "      <td>3.083</td>\n",
       "      <td>0.026</td>\n",
       "      <td>0.000</td>\n",
       "      <td>0.105</td>\n",
       "      <td>0.225</td>\n",
       "      <td>0.235</td>\n",
       "      <td>0.035</td>\n",
       "    </tr>\n",
       "    <tr>\n",
       "      <th>155</th>\n",
       "      <td>156</td>\n",
       "      <td>South Sudan</td>\n",
       "      <td>2.853</td>\n",
       "      <td>0.306</td>\n",
       "      <td>0.575</td>\n",
       "      <td>0.295</td>\n",
       "      <td>0.010</td>\n",
       "      <td>0.202</td>\n",
       "      <td>0.091</td>\n",
       "    </tr>\n",
       "  </tbody>\n",
       "</table>\n",
       "<p>156 rows × 9 columns</p>\n",
       "</div>"
      ],
      "text/plain": [
       "     Overall rank         Country or region  Score  GDP per capita  \\\n",
       "0               1                   Finland  7.769           1.340   \n",
       "1               2                   Denmark  7.600           1.383   \n",
       "2               3                    Norway  7.554           1.488   \n",
       "3               4                   Iceland  7.494           1.380   \n",
       "4               5               Netherlands  7.488           1.396   \n",
       "..            ...                       ...    ...             ...   \n",
       "151           152                    Rwanda  3.334           0.359   \n",
       "152           153                  Tanzania  3.231           0.476   \n",
       "153           154               Afghanistan  3.203           0.350   \n",
       "154           155  Central African Republic  3.083           0.026   \n",
       "155           156               South Sudan  2.853           0.306   \n",
       "\n",
       "     Social support  Healthy life expectancy  Freedom to make life choices  \\\n",
       "0             1.587                    0.986                         0.596   \n",
       "1             1.573                    0.996                         0.592   \n",
       "2             1.582                    1.028                         0.603   \n",
       "3             1.624                    1.026                         0.591   \n",
       "4             1.522                    0.999                         0.557   \n",
       "..              ...                      ...                           ...   \n",
       "151           0.711                    0.614                         0.555   \n",
       "152           0.885                    0.499                         0.417   \n",
       "153           0.517                    0.361                         0.000   \n",
       "154           0.000                    0.105                         0.225   \n",
       "155           0.575                    0.295                         0.010   \n",
       "\n",
       "     Generosity  Perceptions of corruption  \n",
       "0         0.153                      0.393  \n",
       "1         0.252                      0.410  \n",
       "2         0.271                      0.341  \n",
       "3         0.354                      0.118  \n",
       "4         0.322                      0.298  \n",
       "..          ...                        ...  \n",
       "151       0.217                      0.411  \n",
       "152       0.276                      0.147  \n",
       "153       0.158                      0.025  \n",
       "154       0.235                      0.035  \n",
       "155       0.202                      0.091  \n",
       "\n",
       "[156 rows x 9 columns]"
      ]
     },
     "metadata": {},
     "output_type": "display_data"
    },
    {
     "data": {
      "text/html": [
       "<div>\n",
       "<style scoped>\n",
       "    .dataframe tbody tr th:only-of-type {\n",
       "        vertical-align: middle;\n",
       "    }\n",
       "\n",
       "    .dataframe tbody tr th {\n",
       "        vertical-align: top;\n",
       "    }\n",
       "\n",
       "    .dataframe thead th {\n",
       "        text-align: right;\n",
       "    }\n",
       "</style>\n",
       "<table border=\"1\" class=\"dataframe\">\n",
       "  <thead>\n",
       "    <tr style=\"text-align: right;\">\n",
       "      <th></th>\n",
       "      <th>Country</th>\n",
       "      <th>Region</th>\n",
       "      <th>Happiness Rank</th>\n",
       "      <th>Happiness Score</th>\n",
       "      <th>Economy (GDP per Capita)</th>\n",
       "      <th>Family</th>\n",
       "      <th>Health (Life Expectancy)</th>\n",
       "      <th>Freedom</th>\n",
       "      <th>Trust (Government Corruption)</th>\n",
       "      <th>Generosity</th>\n",
       "    </tr>\n",
       "  </thead>\n",
       "  <tbody>\n",
       "    <tr>\n",
       "      <th>0</th>\n",
       "      <td>Switzerland</td>\n",
       "      <td>Western Europe</td>\n",
       "      <td>1</td>\n",
       "      <td>7.587</td>\n",
       "      <td>1.39651</td>\n",
       "      <td>1.34951</td>\n",
       "      <td>0.94143</td>\n",
       "      <td>0.66557</td>\n",
       "      <td>0.41978</td>\n",
       "      <td>0.29678</td>\n",
       "    </tr>\n",
       "    <tr>\n",
       "      <th>1</th>\n",
       "      <td>Iceland</td>\n",
       "      <td>Western Europe</td>\n",
       "      <td>2</td>\n",
       "      <td>7.561</td>\n",
       "      <td>1.30232</td>\n",
       "      <td>1.40223</td>\n",
       "      <td>0.94784</td>\n",
       "      <td>0.62877</td>\n",
       "      <td>0.14145</td>\n",
       "      <td>0.43630</td>\n",
       "    </tr>\n",
       "    <tr>\n",
       "      <th>2</th>\n",
       "      <td>Denmark</td>\n",
       "      <td>Western Europe</td>\n",
       "      <td>3</td>\n",
       "      <td>7.527</td>\n",
       "      <td>1.32548</td>\n",
       "      <td>1.36058</td>\n",
       "      <td>0.87464</td>\n",
       "      <td>0.64938</td>\n",
       "      <td>0.48357</td>\n",
       "      <td>0.34139</td>\n",
       "    </tr>\n",
       "    <tr>\n",
       "      <th>3</th>\n",
       "      <td>Norway</td>\n",
       "      <td>Western Europe</td>\n",
       "      <td>4</td>\n",
       "      <td>7.522</td>\n",
       "      <td>1.45900</td>\n",
       "      <td>1.33095</td>\n",
       "      <td>0.88521</td>\n",
       "      <td>0.66973</td>\n",
       "      <td>0.36503</td>\n",
       "      <td>0.34699</td>\n",
       "    </tr>\n",
       "    <tr>\n",
       "      <th>4</th>\n",
       "      <td>Canada</td>\n",
       "      <td>North America</td>\n",
       "      <td>5</td>\n",
       "      <td>7.427</td>\n",
       "      <td>1.32629</td>\n",
       "      <td>1.32261</td>\n",
       "      <td>0.90563</td>\n",
       "      <td>0.63297</td>\n",
       "      <td>0.32957</td>\n",
       "      <td>0.45811</td>\n",
       "    </tr>\n",
       "    <tr>\n",
       "      <th>...</th>\n",
       "      <td>...</td>\n",
       "      <td>...</td>\n",
       "      <td>...</td>\n",
       "      <td>...</td>\n",
       "      <td>...</td>\n",
       "      <td>...</td>\n",
       "      <td>...</td>\n",
       "      <td>...</td>\n",
       "      <td>...</td>\n",
       "      <td>...</td>\n",
       "    </tr>\n",
       "    <tr>\n",
       "      <th>153</th>\n",
       "      <td>Rwanda</td>\n",
       "      <td>Sub-Saharan Africa</td>\n",
       "      <td>154</td>\n",
       "      <td>3.465</td>\n",
       "      <td>0.22208</td>\n",
       "      <td>0.77370</td>\n",
       "      <td>0.42864</td>\n",
       "      <td>0.59201</td>\n",
       "      <td>0.55191</td>\n",
       "      <td>0.22628</td>\n",
       "    </tr>\n",
       "    <tr>\n",
       "      <th>154</th>\n",
       "      <td>Benin</td>\n",
       "      <td>Sub-Saharan Africa</td>\n",
       "      <td>155</td>\n",
       "      <td>3.340</td>\n",
       "      <td>0.28665</td>\n",
       "      <td>0.35386</td>\n",
       "      <td>0.31910</td>\n",
       "      <td>0.48450</td>\n",
       "      <td>0.08010</td>\n",
       "      <td>0.18260</td>\n",
       "    </tr>\n",
       "    <tr>\n",
       "      <th>155</th>\n",
       "      <td>Syria</td>\n",
       "      <td>Middle East and Northern Africa</td>\n",
       "      <td>156</td>\n",
       "      <td>3.006</td>\n",
       "      <td>0.66320</td>\n",
       "      <td>0.47489</td>\n",
       "      <td>0.72193</td>\n",
       "      <td>0.15684</td>\n",
       "      <td>0.18906</td>\n",
       "      <td>0.47179</td>\n",
       "    </tr>\n",
       "    <tr>\n",
       "      <th>156</th>\n",
       "      <td>Burundi</td>\n",
       "      <td>Sub-Saharan Africa</td>\n",
       "      <td>157</td>\n",
       "      <td>2.905</td>\n",
       "      <td>0.01530</td>\n",
       "      <td>0.41587</td>\n",
       "      <td>0.22396</td>\n",
       "      <td>0.11850</td>\n",
       "      <td>0.10062</td>\n",
       "      <td>0.19727</td>\n",
       "    </tr>\n",
       "    <tr>\n",
       "      <th>157</th>\n",
       "      <td>Togo</td>\n",
       "      <td>Sub-Saharan Africa</td>\n",
       "      <td>158</td>\n",
       "      <td>2.839</td>\n",
       "      <td>0.20868</td>\n",
       "      <td>0.13995</td>\n",
       "      <td>0.28443</td>\n",
       "      <td>0.36453</td>\n",
       "      <td>0.10731</td>\n",
       "      <td>0.16681</td>\n",
       "    </tr>\n",
       "  </tbody>\n",
       "</table>\n",
       "<p>158 rows × 10 columns</p>\n",
       "</div>"
      ],
      "text/plain": [
       "         Country                           Region  Happiness Rank  \\\n",
       "0    Switzerland                   Western Europe               1   \n",
       "1        Iceland                   Western Europe               2   \n",
       "2        Denmark                   Western Europe               3   \n",
       "3         Norway                   Western Europe               4   \n",
       "4         Canada                    North America               5   \n",
       "..           ...                              ...             ...   \n",
       "153       Rwanda               Sub-Saharan Africa             154   \n",
       "154        Benin               Sub-Saharan Africa             155   \n",
       "155        Syria  Middle East and Northern Africa             156   \n",
       "156      Burundi               Sub-Saharan Africa             157   \n",
       "157         Togo               Sub-Saharan Africa             158   \n",
       "\n",
       "     Happiness Score  Economy (GDP per Capita)   Family  \\\n",
       "0              7.587                   1.39651  1.34951   \n",
       "1              7.561                   1.30232  1.40223   \n",
       "2              7.527                   1.32548  1.36058   \n",
       "3              7.522                   1.45900  1.33095   \n",
       "4              7.427                   1.32629  1.32261   \n",
       "..               ...                       ...      ...   \n",
       "153            3.465                   0.22208  0.77370   \n",
       "154            3.340                   0.28665  0.35386   \n",
       "155            3.006                   0.66320  0.47489   \n",
       "156            2.905                   0.01530  0.41587   \n",
       "157            2.839                   0.20868  0.13995   \n",
       "\n",
       "     Health (Life Expectancy)  Freedom  Trust (Government Corruption)  \\\n",
       "0                     0.94143  0.66557                        0.41978   \n",
       "1                     0.94784  0.62877                        0.14145   \n",
       "2                     0.87464  0.64938                        0.48357   \n",
       "3                     0.88521  0.66973                        0.36503   \n",
       "4                     0.90563  0.63297                        0.32957   \n",
       "..                        ...      ...                            ...   \n",
       "153                   0.42864  0.59201                        0.55191   \n",
       "154                   0.31910  0.48450                        0.08010   \n",
       "155                   0.72193  0.15684                        0.18906   \n",
       "156                   0.22396  0.11850                        0.10062   \n",
       "157                   0.28443  0.36453                        0.10731   \n",
       "\n",
       "     Generosity  \n",
       "0       0.29678  \n",
       "1       0.43630  \n",
       "2       0.34139  \n",
       "3       0.34699  \n",
       "4       0.45811  \n",
       "..          ...  \n",
       "153     0.22628  \n",
       "154     0.18260  \n",
       "155     0.47179  \n",
       "156     0.19727  \n",
       "157     0.16681  \n",
       "\n",
       "[158 rows x 10 columns]"
      ]
     },
     "metadata": {},
     "output_type": "display_data"
    },
    {
     "data": {
      "text/html": [
       "<div>\n",
       "<style scoped>\n",
       "    .dataframe tbody tr th:only-of-type {\n",
       "        vertical-align: middle;\n",
       "    }\n",
       "\n",
       "    .dataframe tbody tr th {\n",
       "        vertical-align: top;\n",
       "    }\n",
       "\n",
       "    .dataframe thead th {\n",
       "        text-align: right;\n",
       "    }\n",
       "</style>\n",
       "<table border=\"1\" class=\"dataframe\">\n",
       "  <thead>\n",
       "    <tr style=\"text-align: right;\">\n",
       "      <th></th>\n",
       "      <th>Country</th>\n",
       "      <th>Happiness.Rank</th>\n",
       "      <th>Happiness.Score</th>\n",
       "      <th>Economy..GDP.per.Capita.</th>\n",
       "      <th>Family</th>\n",
       "      <th>Health..Life.Expectancy.</th>\n",
       "      <th>Freedom</th>\n",
       "      <th>Generosity</th>\n",
       "      <th>Trust..Government.Corruption.</th>\n",
       "    </tr>\n",
       "  </thead>\n",
       "  <tbody>\n",
       "    <tr>\n",
       "      <th>0</th>\n",
       "      <td>Norway</td>\n",
       "      <td>1</td>\n",
       "      <td>7.537</td>\n",
       "      <td>1.616463</td>\n",
       "      <td>1.533524</td>\n",
       "      <td>0.796667</td>\n",
       "      <td>0.635423</td>\n",
       "      <td>0.362012</td>\n",
       "      <td>0.315964</td>\n",
       "    </tr>\n",
       "    <tr>\n",
       "      <th>1</th>\n",
       "      <td>Denmark</td>\n",
       "      <td>2</td>\n",
       "      <td>7.522</td>\n",
       "      <td>1.482383</td>\n",
       "      <td>1.551122</td>\n",
       "      <td>0.792566</td>\n",
       "      <td>0.626007</td>\n",
       "      <td>0.355280</td>\n",
       "      <td>0.400770</td>\n",
       "    </tr>\n",
       "    <tr>\n",
       "      <th>2</th>\n",
       "      <td>Iceland</td>\n",
       "      <td>3</td>\n",
       "      <td>7.504</td>\n",
       "      <td>1.480633</td>\n",
       "      <td>1.610574</td>\n",
       "      <td>0.833552</td>\n",
       "      <td>0.627163</td>\n",
       "      <td>0.475540</td>\n",
       "      <td>0.153527</td>\n",
       "    </tr>\n",
       "    <tr>\n",
       "      <th>3</th>\n",
       "      <td>Switzerland</td>\n",
       "      <td>4</td>\n",
       "      <td>7.494</td>\n",
       "      <td>1.564980</td>\n",
       "      <td>1.516912</td>\n",
       "      <td>0.858131</td>\n",
       "      <td>0.620071</td>\n",
       "      <td>0.290549</td>\n",
       "      <td>0.367007</td>\n",
       "    </tr>\n",
       "    <tr>\n",
       "      <th>4</th>\n",
       "      <td>Finland</td>\n",
       "      <td>5</td>\n",
       "      <td>7.469</td>\n",
       "      <td>1.443572</td>\n",
       "      <td>1.540247</td>\n",
       "      <td>0.809158</td>\n",
       "      <td>0.617951</td>\n",
       "      <td>0.245483</td>\n",
       "      <td>0.382612</td>\n",
       "    </tr>\n",
       "    <tr>\n",
       "      <th>...</th>\n",
       "      <td>...</td>\n",
       "      <td>...</td>\n",
       "      <td>...</td>\n",
       "      <td>...</td>\n",
       "      <td>...</td>\n",
       "      <td>...</td>\n",
       "      <td>...</td>\n",
       "      <td>...</td>\n",
       "      <td>...</td>\n",
       "    </tr>\n",
       "    <tr>\n",
       "      <th>150</th>\n",
       "      <td>Rwanda</td>\n",
       "      <td>151</td>\n",
       "      <td>3.471</td>\n",
       "      <td>0.368746</td>\n",
       "      <td>0.945707</td>\n",
       "      <td>0.326425</td>\n",
       "      <td>0.581844</td>\n",
       "      <td>0.252756</td>\n",
       "      <td>0.455220</td>\n",
       "    </tr>\n",
       "    <tr>\n",
       "      <th>151</th>\n",
       "      <td>Syria</td>\n",
       "      <td>152</td>\n",
       "      <td>3.462</td>\n",
       "      <td>0.777153</td>\n",
       "      <td>0.396103</td>\n",
       "      <td>0.500533</td>\n",
       "      <td>0.081539</td>\n",
       "      <td>0.493664</td>\n",
       "      <td>0.151347</td>\n",
       "    </tr>\n",
       "    <tr>\n",
       "      <th>152</th>\n",
       "      <td>Tanzania</td>\n",
       "      <td>153</td>\n",
       "      <td>3.349</td>\n",
       "      <td>0.511136</td>\n",
       "      <td>1.041990</td>\n",
       "      <td>0.364509</td>\n",
       "      <td>0.390018</td>\n",
       "      <td>0.354256</td>\n",
       "      <td>0.066035</td>\n",
       "    </tr>\n",
       "    <tr>\n",
       "      <th>153</th>\n",
       "      <td>Burundi</td>\n",
       "      <td>154</td>\n",
       "      <td>2.905</td>\n",
       "      <td>0.091623</td>\n",
       "      <td>0.629794</td>\n",
       "      <td>0.151611</td>\n",
       "      <td>0.059901</td>\n",
       "      <td>0.204435</td>\n",
       "      <td>0.084148</td>\n",
       "    </tr>\n",
       "    <tr>\n",
       "      <th>154</th>\n",
       "      <td>Central African Republic</td>\n",
       "      <td>155</td>\n",
       "      <td>2.693</td>\n",
       "      <td>0.000000</td>\n",
       "      <td>0.000000</td>\n",
       "      <td>0.018773</td>\n",
       "      <td>0.270842</td>\n",
       "      <td>0.280876</td>\n",
       "      <td>0.056565</td>\n",
       "    </tr>\n",
       "  </tbody>\n",
       "</table>\n",
       "<p>155 rows × 9 columns</p>\n",
       "</div>"
      ],
      "text/plain": [
       "                      Country  Happiness.Rank  Happiness.Score  \\\n",
       "0                      Norway               1            7.537   \n",
       "1                     Denmark               2            7.522   \n",
       "2                     Iceland               3            7.504   \n",
       "3                 Switzerland               4            7.494   \n",
       "4                     Finland               5            7.469   \n",
       "..                        ...             ...              ...   \n",
       "150                    Rwanda             151            3.471   \n",
       "151                     Syria             152            3.462   \n",
       "152                  Tanzania             153            3.349   \n",
       "153                   Burundi             154            2.905   \n",
       "154  Central African Republic             155            2.693   \n",
       "\n",
       "     Economy..GDP.per.Capita.    Family  Health..Life.Expectancy.   Freedom  \\\n",
       "0                    1.616463  1.533524                  0.796667  0.635423   \n",
       "1                    1.482383  1.551122                  0.792566  0.626007   \n",
       "2                    1.480633  1.610574                  0.833552  0.627163   \n",
       "3                    1.564980  1.516912                  0.858131  0.620071   \n",
       "4                    1.443572  1.540247                  0.809158  0.617951   \n",
       "..                        ...       ...                       ...       ...   \n",
       "150                  0.368746  0.945707                  0.326425  0.581844   \n",
       "151                  0.777153  0.396103                  0.500533  0.081539   \n",
       "152                  0.511136  1.041990                  0.364509  0.390018   \n",
       "153                  0.091623  0.629794                  0.151611  0.059901   \n",
       "154                  0.000000  0.000000                  0.018773  0.270842   \n",
       "\n",
       "     Generosity  Trust..Government.Corruption.  \n",
       "0      0.362012                       0.315964  \n",
       "1      0.355280                       0.400770  \n",
       "2      0.475540                       0.153527  \n",
       "3      0.290549                       0.367007  \n",
       "4      0.245483                       0.382612  \n",
       "..          ...                            ...  \n",
       "150    0.252756                       0.455220  \n",
       "151    0.493664                       0.151347  \n",
       "152    0.354256                       0.066035  \n",
       "153    0.204435                       0.084148  \n",
       "154    0.280876                       0.056565  \n",
       "\n",
       "[155 rows x 9 columns]"
      ]
     },
     "metadata": {},
     "output_type": "display_data"
    }
   ],
   "source": [
    "# display(df_2015)\n",
    "# display(df_2017)\n",
    "display(df_2019)\n",
    "\n",
    "df_2015 = df_2015.drop(['Standard Error', 'Dystopia Residual'], axis = 1)\n",
    "display(df_2015)\n",
    "\n",
    "df_2017 = df_2017.drop(['Whisker.high', 'Whisker.low', 'Dystopia.Residual'], axis = 1)\n",
    "display(df_2017)\n",
    "\n",
    "df_2019 = df_2019\n",
    "\n",
    "df_2015_q11 = df_2015.copy()\n",
    "df_2017_q11 = df_2017.copy()\n",
    "df_2019_q11 = df_2019.copy()"
   ]
  },
  {
   "cell_type": "code",
   "execution_count": 52,
   "metadata": {
    "deletable": false,
    "editable": false
   },
   "outputs": [
    {
     "data": {
      "text/html": [
       "\n",
       "    \n",
       "    \n",
       "        <p>All tests passed!</p>\n",
       "    \n",
       "    "
      ],
      "text/plain": [
       "\n",
       "    All tests passed!\n",
       "    "
      ]
     },
     "execution_count": 52,
     "metadata": {},
     "output_type": "execute_result"
    }
   ],
   "source": [
    "grader.check(\"q11\")"
   ]
  },
  {
   "cell_type": "markdown",
   "metadata": {
    "id": "VguKtr7GnXYJ"
   },
   "source": [
    "##### **Renaming Columns**"
   ]
  },
  {
   "cell_type": "markdown",
   "metadata": {
    "deletable": false,
    "editable": false,
    "id": "j3GBsoAgnkHE"
   },
   "source": [
    "Its a good practice to have short, uniform, and representative column names when you are working with multiple datasets of the same kind.\n",
    "\n",
    "**Question 12:** This dataset has whitespaces and dots in the column names. Rename the columns to the following names, for all the years:\n",
    "\n",
    "* **Country** = country\n",
    "* **Region** = region\n",
    "* **Happiness Rank** = rank\n",
    "* **Happiness Score** = score \n",
    "* **Economy** = GDP_per_capita \n",
    "* **Family/Social Support** = social_support\n",
    "* **Freedom** = freedom\n",
    "* **Trust** = trust\n",
    "* **Generosity** = generosity\n",
    "* **Life Expectancy/Health** = life_expectancy\n",
    "\n",
    "Hint: .columns() is a helpful function\n",
    "\n",
    "*Answering Guidelines:* The placeholders for ```df_2015```, ```df_2017``` and ```df_2019``` should have the dataframes with the above mentioned column names.\n",
    "\n",
    "<!--\n",
    "BEGIN QUESTION\n",
    "name: q12\n",
    "points: 3\n",
    "-->"
   ]
  },
  {
   "cell_type": "code",
   "execution_count": 53,
   "metadata": {},
   "outputs": [
    {
     "name": "stdout",
     "output_type": "stream",
     "text": [
      "Index(['country', 'region', 'rank', 'score', 'GDP_per_capita',\n",
      "       'social_support', 'life_expectancy', 'freedom', 'trust', 'generosity'],\n",
      "      dtype='object')\n",
      "Index(['country', 'rank', 'score', 'GDP_per_capita', 'social_support',\n",
      "       'life_expectancy', 'freedom', 'generosity', 'trust'],\n",
      "      dtype='object')\n",
      "Index(['rank', 'country', 'score', 'GDP_per_capita', 'social_support',\n",
      "       'life_expectancy', 'freedom', 'generosity', 'trust'],\n",
      "      dtype='object')\n"
     ]
    }
   ],
   "source": [
    "# print(df_2015.columns)\n",
    "# print(df_2017.columns)\n",
    "# print(df_2019.columns)\n",
    "\n",
    "df_2015 = df_2015.rename(columns = {'Country':'country', 'Region':'region', 'Happiness Rank': 'rank', 'Happiness Score': \n",
    "                                    'score', 'Economy (GDP per Capita)': 'GDP_per_capita', 'Family': 'social_support',\n",
    "                                    'Health (Life Expectancy)':'life_expectancy', 'Freedom': 'freedom', \n",
    "                                    'Trust (Government Corruption)': 'trust', 'Generosity': 'generosity'})\n",
    "df_2017 = df_2017.rename(columns = {'Country': 'country', 'Happiness.Rank': 'rank', 'Happiness.Score': 'score', \n",
    "                                    'Economy..GDP.per.Capita.': 'GDP_per_capita', 'Family': 'social_support',\n",
    "                                   'Health..Life.Expectancy.': 'life_expectancy', 'Freedom': 'freedom', 'Generosity': \n",
    "                                    'generosity', 'Trust..Government.Corruption.': 'trust' })\n",
    "df_2019 = df_2019.rename(columns = {'Overall rank': 'rank', 'Country or region': 'country', 'Score': 'score',\n",
    "                                   'GDP per capita': 'GDP_per_capita', 'Social support': 'social_support',\n",
    "                                   'Healthy life expectancy': 'life_expectancy', 'Freedom to make life choices': 'freedom',\n",
    "                                   'Generosity': 'generosity', 'Perceptions of corruption': 'trust'})\n",
    "\n",
    "print(df_2015.columns)\n",
    "print(df_2017.columns)\n",
    "print(df_2019.columns)\n"
   ]
  },
  {
   "cell_type": "code",
   "execution_count": 54,
   "metadata": {
    "deletable": false,
    "editable": false
   },
   "outputs": [
    {
     "data": {
      "text/html": [
       "\n",
       "    \n",
       "    \n",
       "        <p>All tests passed!</p>\n",
       "    \n",
       "    "
      ],
      "text/plain": [
       "\n",
       "    All tests passed!\n",
       "    "
      ]
     },
     "execution_count": 54,
     "metadata": {},
     "output_type": "execute_result"
    }
   ],
   "source": [
    "grader.check(\"q12\")"
   ]
  },
  {
   "cell_type": "markdown",
   "metadata": {
    "id": "mnNNKFeapkBi"
   },
   "source": [
    "#### **2C: Merging the Data**"
   ]
  },
  {
   "cell_type": "markdown",
   "metadata": {
    "deletable": false,
    "editable": false,
    "id": "iRTRG1x6psQ-"
   },
   "source": [
    "You would have noticed by now that the Region column is missing in the 2017 and 2019 datasets. Not only that, there is also a difference in the countries for which information has been collected over the years (for example: country X might be in 2015 and 2017 but not in 2019).\n",
    "\n",
    "**Question 13:** We asked you to retain the regions column in the 2015 dataset above to help you with one of the tasks above. Figure out a way to add the regions column to datasets from 2017 and 2019 ensuring that all countries overlap across the yearly datasets.\n",
    "\n",
    "*Answering Guidelines:* The placeholders for ```df_2015```, ```df_2017``` and ```df_2019``` should have the dataframes with the final countries. Make sure the column names are the same as the ones established previously and that there are no repeated columns within the dataframes.\n",
    "\n",
    "<!--\n",
    "BEGIN QUESTION\n",
    "name: q13\n",
    "points: 5\n",
    "-->"
   ]
  },
  {
   "cell_type": "code",
   "execution_count": 55,
   "metadata": {},
   "outputs": [
    {
     "data": {
      "text/html": [
       "<div>\n",
       "<style scoped>\n",
       "    .dataframe tbody tr th:only-of-type {\n",
       "        vertical-align: middle;\n",
       "    }\n",
       "\n",
       "    .dataframe tbody tr th {\n",
       "        vertical-align: top;\n",
       "    }\n",
       "\n",
       "    .dataframe thead th {\n",
       "        text-align: right;\n",
       "    }\n",
       "</style>\n",
       "<table border=\"1\" class=\"dataframe\">\n",
       "  <thead>\n",
       "    <tr style=\"text-align: right;\">\n",
       "      <th></th>\n",
       "      <th>country</th>\n",
       "      <th>region</th>\n",
       "      <th>rank</th>\n",
       "      <th>score</th>\n",
       "      <th>GDP_per_capita</th>\n",
       "      <th>social_support</th>\n",
       "      <th>life_expectancy</th>\n",
       "      <th>freedom</th>\n",
       "      <th>trust</th>\n",
       "      <th>generosity</th>\n",
       "    </tr>\n",
       "  </thead>\n",
       "  <tbody>\n",
       "    <tr>\n",
       "      <th>0</th>\n",
       "      <td>Switzerland</td>\n",
       "      <td>Western Europe</td>\n",
       "      <td>1</td>\n",
       "      <td>7.587</td>\n",
       "      <td>1.39651</td>\n",
       "      <td>1.34951</td>\n",
       "      <td>0.94143</td>\n",
       "      <td>0.66557</td>\n",
       "      <td>0.41978</td>\n",
       "      <td>0.29678</td>\n",
       "    </tr>\n",
       "    <tr>\n",
       "      <th>1</th>\n",
       "      <td>Iceland</td>\n",
       "      <td>Western Europe</td>\n",
       "      <td>2</td>\n",
       "      <td>7.561</td>\n",
       "      <td>1.30232</td>\n",
       "      <td>1.40223</td>\n",
       "      <td>0.94784</td>\n",
       "      <td>0.62877</td>\n",
       "      <td>0.14145</td>\n",
       "      <td>0.43630</td>\n",
       "    </tr>\n",
       "    <tr>\n",
       "      <th>2</th>\n",
       "      <td>Denmark</td>\n",
       "      <td>Western Europe</td>\n",
       "      <td>3</td>\n",
       "      <td>7.527</td>\n",
       "      <td>1.32548</td>\n",
       "      <td>1.36058</td>\n",
       "      <td>0.87464</td>\n",
       "      <td>0.64938</td>\n",
       "      <td>0.48357</td>\n",
       "      <td>0.34139</td>\n",
       "    </tr>\n",
       "    <tr>\n",
       "      <th>3</th>\n",
       "      <td>Norway</td>\n",
       "      <td>Western Europe</td>\n",
       "      <td>4</td>\n",
       "      <td>7.522</td>\n",
       "      <td>1.45900</td>\n",
       "      <td>1.33095</td>\n",
       "      <td>0.88521</td>\n",
       "      <td>0.66973</td>\n",
       "      <td>0.36503</td>\n",
       "      <td>0.34699</td>\n",
       "    </tr>\n",
       "    <tr>\n",
       "      <th>4</th>\n",
       "      <td>Canada</td>\n",
       "      <td>North America</td>\n",
       "      <td>5</td>\n",
       "      <td>7.427</td>\n",
       "      <td>1.32629</td>\n",
       "      <td>1.32261</td>\n",
       "      <td>0.90563</td>\n",
       "      <td>0.63297</td>\n",
       "      <td>0.32957</td>\n",
       "      <td>0.45811</td>\n",
       "    </tr>\n",
       "    <tr>\n",
       "      <th>...</th>\n",
       "      <td>...</td>\n",
       "      <td>...</td>\n",
       "      <td>...</td>\n",
       "      <td>...</td>\n",
       "      <td>...</td>\n",
       "      <td>...</td>\n",
       "      <td>...</td>\n",
       "      <td>...</td>\n",
       "      <td>...</td>\n",
       "      <td>...</td>\n",
       "    </tr>\n",
       "    <tr>\n",
       "      <th>153</th>\n",
       "      <td>Rwanda</td>\n",
       "      <td>Sub-Saharan Africa</td>\n",
       "      <td>154</td>\n",
       "      <td>3.465</td>\n",
       "      <td>0.22208</td>\n",
       "      <td>0.77370</td>\n",
       "      <td>0.42864</td>\n",
       "      <td>0.59201</td>\n",
       "      <td>0.55191</td>\n",
       "      <td>0.22628</td>\n",
       "    </tr>\n",
       "    <tr>\n",
       "      <th>154</th>\n",
       "      <td>Benin</td>\n",
       "      <td>Sub-Saharan Africa</td>\n",
       "      <td>155</td>\n",
       "      <td>3.340</td>\n",
       "      <td>0.28665</td>\n",
       "      <td>0.35386</td>\n",
       "      <td>0.31910</td>\n",
       "      <td>0.48450</td>\n",
       "      <td>0.08010</td>\n",
       "      <td>0.18260</td>\n",
       "    </tr>\n",
       "    <tr>\n",
       "      <th>155</th>\n",
       "      <td>Syria</td>\n",
       "      <td>Middle East and Northern Africa</td>\n",
       "      <td>156</td>\n",
       "      <td>3.006</td>\n",
       "      <td>0.66320</td>\n",
       "      <td>0.47489</td>\n",
       "      <td>0.72193</td>\n",
       "      <td>0.15684</td>\n",
       "      <td>0.18906</td>\n",
       "      <td>0.47179</td>\n",
       "    </tr>\n",
       "    <tr>\n",
       "      <th>156</th>\n",
       "      <td>Burundi</td>\n",
       "      <td>Sub-Saharan Africa</td>\n",
       "      <td>157</td>\n",
       "      <td>2.905</td>\n",
       "      <td>0.01530</td>\n",
       "      <td>0.41587</td>\n",
       "      <td>0.22396</td>\n",
       "      <td>0.11850</td>\n",
       "      <td>0.10062</td>\n",
       "      <td>0.19727</td>\n",
       "    </tr>\n",
       "    <tr>\n",
       "      <th>157</th>\n",
       "      <td>Togo</td>\n",
       "      <td>Sub-Saharan Africa</td>\n",
       "      <td>158</td>\n",
       "      <td>2.839</td>\n",
       "      <td>0.20868</td>\n",
       "      <td>0.13995</td>\n",
       "      <td>0.28443</td>\n",
       "      <td>0.36453</td>\n",
       "      <td>0.10731</td>\n",
       "      <td>0.16681</td>\n",
       "    </tr>\n",
       "  </tbody>\n",
       "</table>\n",
       "<p>144 rows × 10 columns</p>\n",
       "</div>"
      ],
      "text/plain": [
       "         country                           region  rank  score  \\\n",
       "0    Switzerland                   Western Europe     1  7.587   \n",
       "1        Iceland                   Western Europe     2  7.561   \n",
       "2        Denmark                   Western Europe     3  7.527   \n",
       "3         Norway                   Western Europe     4  7.522   \n",
       "4         Canada                    North America     5  7.427   \n",
       "..           ...                              ...   ...    ...   \n",
       "153       Rwanda               Sub-Saharan Africa   154  3.465   \n",
       "154        Benin               Sub-Saharan Africa   155  3.340   \n",
       "155        Syria  Middle East and Northern Africa   156  3.006   \n",
       "156      Burundi               Sub-Saharan Africa   157  2.905   \n",
       "157         Togo               Sub-Saharan Africa   158  2.839   \n",
       "\n",
       "     GDP_per_capita  social_support  life_expectancy  freedom    trust  \\\n",
       "0           1.39651         1.34951          0.94143  0.66557  0.41978   \n",
       "1           1.30232         1.40223          0.94784  0.62877  0.14145   \n",
       "2           1.32548         1.36058          0.87464  0.64938  0.48357   \n",
       "3           1.45900         1.33095          0.88521  0.66973  0.36503   \n",
       "4           1.32629         1.32261          0.90563  0.63297  0.32957   \n",
       "..              ...             ...              ...      ...      ...   \n",
       "153         0.22208         0.77370          0.42864  0.59201  0.55191   \n",
       "154         0.28665         0.35386          0.31910  0.48450  0.08010   \n",
       "155         0.66320         0.47489          0.72193  0.15684  0.18906   \n",
       "156         0.01530         0.41587          0.22396  0.11850  0.10062   \n",
       "157         0.20868         0.13995          0.28443  0.36453  0.10731   \n",
       "\n",
       "     generosity  \n",
       "0       0.29678  \n",
       "1       0.43630  \n",
       "2       0.34139  \n",
       "3       0.34699  \n",
       "4       0.45811  \n",
       "..          ...  \n",
       "153     0.22628  \n",
       "154     0.18260  \n",
       "155     0.47179  \n",
       "156     0.19727  \n",
       "157     0.16681  \n",
       "\n",
       "[144 rows x 10 columns]"
      ]
     },
     "metadata": {},
     "output_type": "display_data"
    },
    {
     "data": {
      "text/html": [
       "<div>\n",
       "<style scoped>\n",
       "    .dataframe tbody tr th:only-of-type {\n",
       "        vertical-align: middle;\n",
       "    }\n",
       "\n",
       "    .dataframe tbody tr th {\n",
       "        vertical-align: top;\n",
       "    }\n",
       "\n",
       "    .dataframe thead th {\n",
       "        text-align: right;\n",
       "    }\n",
       "</style>\n",
       "<table border=\"1\" class=\"dataframe\">\n",
       "  <thead>\n",
       "    <tr style=\"text-align: right;\">\n",
       "      <th></th>\n",
       "      <th>country</th>\n",
       "      <th>rank</th>\n",
       "      <th>score</th>\n",
       "      <th>GDP_per_capita</th>\n",
       "      <th>social_support</th>\n",
       "      <th>life_expectancy</th>\n",
       "      <th>freedom</th>\n",
       "      <th>generosity</th>\n",
       "      <th>trust</th>\n",
       "      <th>region</th>\n",
       "    </tr>\n",
       "  </thead>\n",
       "  <tbody>\n",
       "    <tr>\n",
       "      <th>0</th>\n",
       "      <td>Norway</td>\n",
       "      <td>1</td>\n",
       "      <td>7.537</td>\n",
       "      <td>1.616463</td>\n",
       "      <td>1.533524</td>\n",
       "      <td>0.796667</td>\n",
       "      <td>0.635423</td>\n",
       "      <td>0.362012</td>\n",
       "      <td>0.315964</td>\n",
       "      <td>Western Europe</td>\n",
       "    </tr>\n",
       "    <tr>\n",
       "      <th>1</th>\n",
       "      <td>Denmark</td>\n",
       "      <td>2</td>\n",
       "      <td>7.522</td>\n",
       "      <td>1.482383</td>\n",
       "      <td>1.551122</td>\n",
       "      <td>0.792566</td>\n",
       "      <td>0.626007</td>\n",
       "      <td>0.355280</td>\n",
       "      <td>0.400770</td>\n",
       "      <td>Western Europe</td>\n",
       "    </tr>\n",
       "    <tr>\n",
       "      <th>2</th>\n",
       "      <td>Iceland</td>\n",
       "      <td>3</td>\n",
       "      <td>7.504</td>\n",
       "      <td>1.480633</td>\n",
       "      <td>1.610574</td>\n",
       "      <td>0.833552</td>\n",
       "      <td>0.627163</td>\n",
       "      <td>0.475540</td>\n",
       "      <td>0.153527</td>\n",
       "      <td>Western Europe</td>\n",
       "    </tr>\n",
       "    <tr>\n",
       "      <th>3</th>\n",
       "      <td>Switzerland</td>\n",
       "      <td>4</td>\n",
       "      <td>7.494</td>\n",
       "      <td>1.564980</td>\n",
       "      <td>1.516912</td>\n",
       "      <td>0.858131</td>\n",
       "      <td>0.620071</td>\n",
       "      <td>0.290549</td>\n",
       "      <td>0.367007</td>\n",
       "      <td>Western Europe</td>\n",
       "    </tr>\n",
       "    <tr>\n",
       "      <th>4</th>\n",
       "      <td>Finland</td>\n",
       "      <td>5</td>\n",
       "      <td>7.469</td>\n",
       "      <td>1.443572</td>\n",
       "      <td>1.540247</td>\n",
       "      <td>0.809158</td>\n",
       "      <td>0.617951</td>\n",
       "      <td>0.245483</td>\n",
       "      <td>0.382612</td>\n",
       "      <td>Western Europe</td>\n",
       "    </tr>\n",
       "    <tr>\n",
       "      <th>...</th>\n",
       "      <td>...</td>\n",
       "      <td>...</td>\n",
       "      <td>...</td>\n",
       "      <td>...</td>\n",
       "      <td>...</td>\n",
       "      <td>...</td>\n",
       "      <td>...</td>\n",
       "      <td>...</td>\n",
       "      <td>...</td>\n",
       "      <td>...</td>\n",
       "    </tr>\n",
       "    <tr>\n",
       "      <th>150</th>\n",
       "      <td>Rwanda</td>\n",
       "      <td>151</td>\n",
       "      <td>3.471</td>\n",
       "      <td>0.368746</td>\n",
       "      <td>0.945707</td>\n",
       "      <td>0.326425</td>\n",
       "      <td>0.581844</td>\n",
       "      <td>0.252756</td>\n",
       "      <td>0.455220</td>\n",
       "      <td>Sub-Saharan Africa</td>\n",
       "    </tr>\n",
       "    <tr>\n",
       "      <th>151</th>\n",
       "      <td>Syria</td>\n",
       "      <td>152</td>\n",
       "      <td>3.462</td>\n",
       "      <td>0.777153</td>\n",
       "      <td>0.396103</td>\n",
       "      <td>0.500533</td>\n",
       "      <td>0.081539</td>\n",
       "      <td>0.493664</td>\n",
       "      <td>0.151347</td>\n",
       "      <td>Middle East and Northern Africa</td>\n",
       "    </tr>\n",
       "    <tr>\n",
       "      <th>152</th>\n",
       "      <td>Tanzania</td>\n",
       "      <td>153</td>\n",
       "      <td>3.349</td>\n",
       "      <td>0.511136</td>\n",
       "      <td>1.041990</td>\n",
       "      <td>0.364509</td>\n",
       "      <td>0.390018</td>\n",
       "      <td>0.354256</td>\n",
       "      <td>0.066035</td>\n",
       "      <td>Sub-Saharan Africa</td>\n",
       "    </tr>\n",
       "    <tr>\n",
       "      <th>153</th>\n",
       "      <td>Burundi</td>\n",
       "      <td>154</td>\n",
       "      <td>2.905</td>\n",
       "      <td>0.091623</td>\n",
       "      <td>0.629794</td>\n",
       "      <td>0.151611</td>\n",
       "      <td>0.059901</td>\n",
       "      <td>0.204435</td>\n",
       "      <td>0.084148</td>\n",
       "      <td>Sub-Saharan Africa</td>\n",
       "    </tr>\n",
       "    <tr>\n",
       "      <th>154</th>\n",
       "      <td>Central African Republic</td>\n",
       "      <td>155</td>\n",
       "      <td>2.693</td>\n",
       "      <td>0.000000</td>\n",
       "      <td>0.000000</td>\n",
       "      <td>0.018773</td>\n",
       "      <td>0.270842</td>\n",
       "      <td>0.280876</td>\n",
       "      <td>0.056565</td>\n",
       "      <td>Sub-Saharan Africa</td>\n",
       "    </tr>\n",
       "  </tbody>\n",
       "</table>\n",
       "<p>144 rows × 10 columns</p>\n",
       "</div>"
      ],
      "text/plain": [
       "                      country  rank  score  GDP_per_capita  social_support  \\\n",
       "0                      Norway     1  7.537        1.616463        1.533524   \n",
       "1                     Denmark     2  7.522        1.482383        1.551122   \n",
       "2                     Iceland     3  7.504        1.480633        1.610574   \n",
       "3                 Switzerland     4  7.494        1.564980        1.516912   \n",
       "4                     Finland     5  7.469        1.443572        1.540247   \n",
       "..                        ...   ...    ...             ...             ...   \n",
       "150                    Rwanda   151  3.471        0.368746        0.945707   \n",
       "151                     Syria   152  3.462        0.777153        0.396103   \n",
       "152                  Tanzania   153  3.349        0.511136        1.041990   \n",
       "153                   Burundi   154  2.905        0.091623        0.629794   \n",
       "154  Central African Republic   155  2.693        0.000000        0.000000   \n",
       "\n",
       "     life_expectancy   freedom  generosity     trust  \\\n",
       "0           0.796667  0.635423    0.362012  0.315964   \n",
       "1           0.792566  0.626007    0.355280  0.400770   \n",
       "2           0.833552  0.627163    0.475540  0.153527   \n",
       "3           0.858131  0.620071    0.290549  0.367007   \n",
       "4           0.809158  0.617951    0.245483  0.382612   \n",
       "..               ...       ...         ...       ...   \n",
       "150         0.326425  0.581844    0.252756  0.455220   \n",
       "151         0.500533  0.081539    0.493664  0.151347   \n",
       "152         0.364509  0.390018    0.354256  0.066035   \n",
       "153         0.151611  0.059901    0.204435  0.084148   \n",
       "154         0.018773  0.270842    0.280876  0.056565   \n",
       "\n",
       "                              region  \n",
       "0                     Western Europe  \n",
       "1                     Western Europe  \n",
       "2                     Western Europe  \n",
       "3                     Western Europe  \n",
       "4                     Western Europe  \n",
       "..                               ...  \n",
       "150               Sub-Saharan Africa  \n",
       "151  Middle East and Northern Africa  \n",
       "152               Sub-Saharan Africa  \n",
       "153               Sub-Saharan Africa  \n",
       "154               Sub-Saharan Africa  \n",
       "\n",
       "[144 rows x 10 columns]"
      ]
     },
     "metadata": {},
     "output_type": "display_data"
    },
    {
     "data": {
      "text/html": [
       "<div>\n",
       "<style scoped>\n",
       "    .dataframe tbody tr th:only-of-type {\n",
       "        vertical-align: middle;\n",
       "    }\n",
       "\n",
       "    .dataframe tbody tr th {\n",
       "        vertical-align: top;\n",
       "    }\n",
       "\n",
       "    .dataframe thead th {\n",
       "        text-align: right;\n",
       "    }\n",
       "</style>\n",
       "<table border=\"1\" class=\"dataframe\">\n",
       "  <thead>\n",
       "    <tr style=\"text-align: right;\">\n",
       "      <th></th>\n",
       "      <th>rank</th>\n",
       "      <th>country</th>\n",
       "      <th>score</th>\n",
       "      <th>GDP_per_capita</th>\n",
       "      <th>social_support</th>\n",
       "      <th>life_expectancy</th>\n",
       "      <th>freedom</th>\n",
       "      <th>generosity</th>\n",
       "      <th>trust</th>\n",
       "      <th>region</th>\n",
       "    </tr>\n",
       "  </thead>\n",
       "  <tbody>\n",
       "    <tr>\n",
       "      <th>0</th>\n",
       "      <td>1</td>\n",
       "      <td>Finland</td>\n",
       "      <td>7.769</td>\n",
       "      <td>1.340</td>\n",
       "      <td>1.587</td>\n",
       "      <td>0.986</td>\n",
       "      <td>0.596</td>\n",
       "      <td>0.153</td>\n",
       "      <td>0.393</td>\n",
       "      <td>Western Europe</td>\n",
       "    </tr>\n",
       "    <tr>\n",
       "      <th>1</th>\n",
       "      <td>2</td>\n",
       "      <td>Denmark</td>\n",
       "      <td>7.600</td>\n",
       "      <td>1.383</td>\n",
       "      <td>1.573</td>\n",
       "      <td>0.996</td>\n",
       "      <td>0.592</td>\n",
       "      <td>0.252</td>\n",
       "      <td>0.410</td>\n",
       "      <td>Western Europe</td>\n",
       "    </tr>\n",
       "    <tr>\n",
       "      <th>2</th>\n",
       "      <td>3</td>\n",
       "      <td>Norway</td>\n",
       "      <td>7.554</td>\n",
       "      <td>1.488</td>\n",
       "      <td>1.582</td>\n",
       "      <td>1.028</td>\n",
       "      <td>0.603</td>\n",
       "      <td>0.271</td>\n",
       "      <td>0.341</td>\n",
       "      <td>Western Europe</td>\n",
       "    </tr>\n",
       "    <tr>\n",
       "      <th>3</th>\n",
       "      <td>4</td>\n",
       "      <td>Iceland</td>\n",
       "      <td>7.494</td>\n",
       "      <td>1.380</td>\n",
       "      <td>1.624</td>\n",
       "      <td>1.026</td>\n",
       "      <td>0.591</td>\n",
       "      <td>0.354</td>\n",
       "      <td>0.118</td>\n",
       "      <td>Western Europe</td>\n",
       "    </tr>\n",
       "    <tr>\n",
       "      <th>4</th>\n",
       "      <td>5</td>\n",
       "      <td>Netherlands</td>\n",
       "      <td>7.488</td>\n",
       "      <td>1.396</td>\n",
       "      <td>1.522</td>\n",
       "      <td>0.999</td>\n",
       "      <td>0.557</td>\n",
       "      <td>0.322</td>\n",
       "      <td>0.298</td>\n",
       "      <td>Western Europe</td>\n",
       "    </tr>\n",
       "    <tr>\n",
       "      <th>...</th>\n",
       "      <td>...</td>\n",
       "      <td>...</td>\n",
       "      <td>...</td>\n",
       "      <td>...</td>\n",
       "      <td>...</td>\n",
       "      <td>...</td>\n",
       "      <td>...</td>\n",
       "      <td>...</td>\n",
       "      <td>...</td>\n",
       "      <td>...</td>\n",
       "    </tr>\n",
       "    <tr>\n",
       "      <th>150</th>\n",
       "      <td>151</td>\n",
       "      <td>Yemen</td>\n",
       "      <td>3.380</td>\n",
       "      <td>0.287</td>\n",
       "      <td>1.163</td>\n",
       "      <td>0.463</td>\n",
       "      <td>0.143</td>\n",
       "      <td>0.108</td>\n",
       "      <td>0.077</td>\n",
       "      <td>Middle East and Northern Africa</td>\n",
       "    </tr>\n",
       "    <tr>\n",
       "      <th>151</th>\n",
       "      <td>152</td>\n",
       "      <td>Rwanda</td>\n",
       "      <td>3.334</td>\n",
       "      <td>0.359</td>\n",
       "      <td>0.711</td>\n",
       "      <td>0.614</td>\n",
       "      <td>0.555</td>\n",
       "      <td>0.217</td>\n",
       "      <td>0.411</td>\n",
       "      <td>Sub-Saharan Africa</td>\n",
       "    </tr>\n",
       "    <tr>\n",
       "      <th>152</th>\n",
       "      <td>153</td>\n",
       "      <td>Tanzania</td>\n",
       "      <td>3.231</td>\n",
       "      <td>0.476</td>\n",
       "      <td>0.885</td>\n",
       "      <td>0.499</td>\n",
       "      <td>0.417</td>\n",
       "      <td>0.276</td>\n",
       "      <td>0.147</td>\n",
       "      <td>Sub-Saharan Africa</td>\n",
       "    </tr>\n",
       "    <tr>\n",
       "      <th>153</th>\n",
       "      <td>154</td>\n",
       "      <td>Afghanistan</td>\n",
       "      <td>3.203</td>\n",
       "      <td>0.350</td>\n",
       "      <td>0.517</td>\n",
       "      <td>0.361</td>\n",
       "      <td>0.000</td>\n",
       "      <td>0.158</td>\n",
       "      <td>0.025</td>\n",
       "      <td>Southern Asia</td>\n",
       "    </tr>\n",
       "    <tr>\n",
       "      <th>154</th>\n",
       "      <td>155</td>\n",
       "      <td>Central African Republic</td>\n",
       "      <td>3.083</td>\n",
       "      <td>0.026</td>\n",
       "      <td>0.000</td>\n",
       "      <td>0.105</td>\n",
       "      <td>0.225</td>\n",
       "      <td>0.235</td>\n",
       "      <td>0.035</td>\n",
       "      <td>Sub-Saharan Africa</td>\n",
       "    </tr>\n",
       "  </tbody>\n",
       "</table>\n",
       "<p>144 rows × 10 columns</p>\n",
       "</div>"
      ],
      "text/plain": [
       "     rank                   country  score  GDP_per_capita  social_support  \\\n",
       "0       1                   Finland  7.769           1.340           1.587   \n",
       "1       2                   Denmark  7.600           1.383           1.573   \n",
       "2       3                    Norway  7.554           1.488           1.582   \n",
       "3       4                   Iceland  7.494           1.380           1.624   \n",
       "4       5               Netherlands  7.488           1.396           1.522   \n",
       "..    ...                       ...    ...             ...             ...   \n",
       "150   151                     Yemen  3.380           0.287           1.163   \n",
       "151   152                    Rwanda  3.334           0.359           0.711   \n",
       "152   153                  Tanzania  3.231           0.476           0.885   \n",
       "153   154               Afghanistan  3.203           0.350           0.517   \n",
       "154   155  Central African Republic  3.083           0.026           0.000   \n",
       "\n",
       "     life_expectancy  freedom  generosity  trust  \\\n",
       "0              0.986    0.596       0.153  0.393   \n",
       "1              0.996    0.592       0.252  0.410   \n",
       "2              1.028    0.603       0.271  0.341   \n",
       "3              1.026    0.591       0.354  0.118   \n",
       "4              0.999    0.557       0.322  0.298   \n",
       "..               ...      ...         ...    ...   \n",
       "150            0.463    0.143       0.108  0.077   \n",
       "151            0.614    0.555       0.217  0.411   \n",
       "152            0.499    0.417       0.276  0.147   \n",
       "153            0.361    0.000       0.158  0.025   \n",
       "154            0.105    0.225       0.235  0.035   \n",
       "\n",
       "                              region  \n",
       "0                     Western Europe  \n",
       "1                     Western Europe  \n",
       "2                     Western Europe  \n",
       "3                     Western Europe  \n",
       "4                     Western Europe  \n",
       "..                               ...  \n",
       "150  Middle East and Northern Africa  \n",
       "151               Sub-Saharan Africa  \n",
       "152               Sub-Saharan Africa  \n",
       "153                    Southern Asia  \n",
       "154               Sub-Saharan Africa  \n",
       "\n",
       "[144 rows x 10 columns]"
      ]
     },
     "metadata": {},
     "output_type": "display_data"
    }
   ],
   "source": [
    "\n",
    "# df_2015 = ...\n",
    "# print(df_2015)\n",
    "# display(df_2017)\n",
    "\n",
    "df_2017 = pd.merge(df_2017, df_2015[['country', 'region']], on = 'country', how = 'left')\n",
    "df_2017.describe()\n",
    "\n",
    "# null_2017 = df_2017.isnull().sum()\n",
    "# print(null_2017)\n",
    "# display(df_2017)\n",
    "\n",
    "df_2019 = pd.merge(df_2019, df_2015[['country', 'region']], on = 'country', how = 'left')\n",
    "\n",
    "# null_2019 = df_2019.isnull().sum()\n",
    "# print(null_2019)\n",
    "\n",
    "df_2019.dropna(axis=0, inplace = True)\n",
    "df_2017.dropna(axis=0, inplace = True)\n",
    "\n",
    "filter_1 = df_2017['country'].isin(df_2019['country'])\n",
    "filter_2 = df_2019['country'].isin(df_2017['country'])\n",
    "filter_3 = df_2015['country'].isin(df_2017['country'])\n",
    "filter_4 = df_2015['country'].isin(df_2019['country'])\n",
    "\n",
    "df_2017 = df_2017[filter_1]\n",
    "df_2019 = df_2019[filter_2]\n",
    "df_2015 = df_2015[filter_3 & filter_4]\n",
    "\n",
    "display(df_2015)\n",
    "display(df_2017)\n",
    "display(df_2019)"
   ]
  },
  {
   "cell_type": "code",
   "execution_count": 56,
   "metadata": {
    "deletable": false,
    "editable": false
   },
   "outputs": [
    {
     "data": {
      "text/html": [
       "\n",
       "    \n",
       "    \n",
       "        <p>All tests passed!</p>\n",
       "    \n",
       "    "
      ],
      "text/plain": [
       "\n",
       "    All tests passed!\n",
       "    "
      ]
     },
     "execution_count": 56,
     "metadata": {},
     "output_type": "execute_result"
    }
   ],
   "source": [
    "grader.check(\"q13\")"
   ]
  },
  {
   "cell_type": "markdown",
   "metadata": {
    "id": "RFl8sh6IU1XM"
   },
   "source": [
    "## **Wuhu!**\n",
    "\n",
    "*Pat yourself on the back*\n",
    "\n",
    "You are done with a major chunk of what comes under the EDA process. There is obviously alot more to data cleaning since every dataset comes with its own set of complications, but I hope you guys learned some useful functions/approaches!"
   ]
  },
  {
   "cell_type": "markdown",
   "metadata": {},
   "source": [
    "Before moving on to the next part, let's save the cleaned files so that these can be used easily later. We will save it as a 'pickle', a binary file format which will preserve out column types. Text-based file formats like csv and json do not preserve column data types. "
   ]
  },
  {
   "cell_type": "code",
   "execution_count": 57,
   "metadata": {},
   "outputs": [],
   "source": [
    "#save the cleaned dataset\n",
    "df_2015.to_pickle('cleaned_2015.pkl')\n",
    "df_2017.to_pickle('cleaned_2017.pkl')\n",
    "df_2019.to_pickle('cleaned_2019.pkl')"
   ]
  },
  {
   "cell_type": "markdown",
   "metadata": {},
   "source": [
    "### Note: make sure you shift these pickle files to that directory where the python notebook for the second part is."
   ]
  },
  {
   "cell_type": "markdown",
   "metadata": {
    "deletable": false,
    "editable": false
   },
   "source": [
    "---\n",
    "\n",
    "To double-check your work, the cell below will rerun all of the autograder tests."
   ]
  },
  {
   "cell_type": "code",
   "execution_count": 27,
   "metadata": {
    "deletable": false,
    "editable": false
   },
   "outputs": [
    {
     "data": {
      "text/html": [
       "<p><strong>q10:</strong></p>\n",
       "\n",
       "    \n",
       "    \n",
       "        <p>All tests passed!</p>\n",
       "    \n",
       "    \n",
       "\n",
       "<p><strong>q11:</strong></p>\n",
       "\n",
       "    \n",
       "    \n",
       "        <p>All tests passed!</p>\n",
       "    \n",
       "    \n",
       "\n",
       "<p><strong>q12:</strong></p>\n",
       "\n",
       "    \n",
       "    \n",
       "        <p>All tests passed!</p>\n",
       "    \n",
       "    \n",
       "\n",
       "<p><strong>q13:</strong></p>\n",
       "\n",
       "    \n",
       "    \n",
       "        <p>All tests passed!</p>\n",
       "    \n",
       "    \n",
       "\n",
       "<p><strong>q3:</strong></p>\n",
       "\n",
       "    \n",
       "    \n",
       "        <p>All tests passed!</p>\n",
       "    \n",
       "    \n",
       "\n",
       "<p><strong>q4:</strong></p>\n",
       "\n",
       "    \n",
       "    \n",
       "        <p>All tests passed!</p>\n",
       "    \n",
       "    \n",
       "\n",
       "<p><strong>q5:</strong></p>\n",
       "\n",
       "    \n",
       "    \n",
       "        <p>All tests passed!</p>\n",
       "    \n",
       "    \n",
       "\n",
       "<p><strong>q6:</strong></p>\n",
       "\n",
       "    \n",
       "    \n",
       "        <p>All tests passed!</p>\n",
       "    \n",
       "    \n",
       "\n",
       "<p><strong>q7:</strong></p>\n",
       "\n",
       "    \n",
       "    \n",
       "        <p>All tests passed!</p>\n",
       "    \n",
       "    \n",
       "\n",
       "<p><strong>q8:</strong></p>\n",
       "\n",
       "    \n",
       "    \n",
       "        <p>All tests passed!</p>\n",
       "    \n",
       "    \n",
       "\n",
       "<p><strong>q9:</strong></p>\n",
       "\n",
       "    \n",
       "    \n",
       "        <p>All tests passed!</p>\n",
       "    \n",
       "    \n",
       "\n"
      ],
      "text/plain": [
       "q10:\n",
       "\n",
       "    All tests passed!\n",
       "    \n",
       "\n",
       "q11:\n",
       "\n",
       "    All tests passed!\n",
       "    \n",
       "\n",
       "q12:\n",
       "\n",
       "    All tests passed!\n",
       "    \n",
       "\n",
       "q13:\n",
       "\n",
       "    All tests passed!\n",
       "    \n",
       "\n",
       "q3:\n",
       "\n",
       "    All tests passed!\n",
       "    \n",
       "\n",
       "q4:\n",
       "\n",
       "    All tests passed!\n",
       "    \n",
       "\n",
       "q5:\n",
       "\n",
       "    All tests passed!\n",
       "    \n",
       "\n",
       "q6:\n",
       "\n",
       "    All tests passed!\n",
       "    \n",
       "\n",
       "q7:\n",
       "\n",
       "    All tests passed!\n",
       "    \n",
       "\n",
       "q8:\n",
       "\n",
       "    All tests passed!\n",
       "    \n",
       "\n",
       "q9:\n",
       "\n",
       "    All tests passed!\n",
       "    \n"
      ]
     },
     "execution_count": 27,
     "metadata": {},
     "output_type": "execute_result"
    }
   ],
   "source": [
    "grader.check_all()"
   ]
  },
  {
   "cell_type": "markdown",
   "metadata": {
    "deletable": false,
    "editable": false
   },
   "source": [
    "## Submission\n",
    "\n",
    "Make sure you have run all cells in your notebook in order before running the cell below, so that all images/graphs appear in the output. The cell below will generate a zip file for you to submit. **Please save before exporting!**"
   ]
  },
  {
   "cell_type": "code",
   "execution_count": null,
   "metadata": {
    "deletable": false,
    "editable": false
   },
   "outputs": [],
   "source": [
    "# Save your notebook first, then run this cell to export your submission.\n",
    "grader.export(\"2XXXXXXX_1.ipynb\")"
   ]
  },
  {
   "cell_type": "markdown",
   "metadata": {},
   "source": [
    " "
   ]
  }
 ],
 "metadata": {
  "colab": {
   "collapsed_sections": [],
   "name": "DataCleaning&EDA-Assignment2.ipynb",
   "provenance": []
  },
  "kernelspec": {
   "display_name": "Python 3",
   "language": "python",
   "name": "python3"
  },
  "language_info": {
   "codemirror_mode": {
    "name": "ipython",
    "version": 3
   },
   "file_extension": ".py",
   "mimetype": "text/x-python",
   "name": "python",
   "nbconvert_exporter": "python",
   "pygments_lexer": "ipython3",
   "version": "3.8.3"
  }
 },
 "nbformat": 4,
 "nbformat_minor": 1
}
