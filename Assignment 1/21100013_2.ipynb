{
 "cells": [
  {
   "cell_type": "markdown",
   "metadata": {},
   "source": [
    "## Assignment 1 (Part 2)"
   ]
  },
  {
   "cell_type": "markdown",
   "metadata": {},
   "source": [
    "**Context**\n",
    "\n",
    "The dataset provided is from an Insurance company that provides Health Insurance to its customers and is now interested in providing Vehicle Insurance as well.\n",
    "\n",
    "An insurance policy is an arrangement by which a company undertakes to provide a guarantee of compensation for specified loss, damage, illness, or death in return for the payment of a specified premium. A premium is a sum of money that the customer needs to pay regularly to an insurance company for this guarantee.\n",
    "\n",
    "For example, you may pay a premium of Rs. 5000 each year for a health insurance cover of Rs. 200,000/- so that if, God forbid, you fall ill and need to be hospitalised in that year, the insurance provider company will bear the cost of hospitalisation etc. for upto Rs. 200,000. Now if you are wondering how can company bear such high hospitalisation cost when it charges a premium of only Rs. 5000/-, that is where the concept of probabilities comes in picture. For example, like you, there may be 100 customers who would be paying a premium of Rs. 5000 every year, but only a few of them (say 2-3) would get hospitalised that year and not everyone. This way everyone shares the risk of everyone else.\n",
    "\n",
    "Just like medical insurance, there is vehicle insurance where every year customer needs to pay a premium of certain amount to insurance provider company so that in case of unfortunate accident by the vehicle, the insurance provider company will provide a compensation (called ‘sum assured’) to the customer.\n",
    "\n",
    "To make a data-driven decision about their new Vehicle Insurance, the Insurance company is interested in analyzing the dataset thoroughly. Your job in this scenario is to help the company by finding the answers to their questions."
   ]
  },
  {
   "cell_type": "markdown",
   "metadata": {},
   "source": [
    "**Important Points:**       \n",
    "  1) Do not change the provided variable names in any cell!  \n",
    "2) ... are places where you need to enter your code- your code may exceed a line and that is okay. Make sure the final variable assignment is done properly though.  \n",
    "3) Be extra careful about what your final answer should contain. Read the question guidelines extra carefully.  \n",
    "4) Some useful functions that you might need for this assignment are groupby(), unique(), copy(), count(), sum(), zip(), list()  \n",
    "5) Variables named like df_q* always store a dataframe."
   ]
  },
  {
   "cell_type": "code",
   "execution_count": 52,
   "metadata": {
    "deletable": false,
    "editable": false
   },
   "outputs": [],
   "source": [
    "# Initialize Otter\n",
    "import otter\n",
    "grader = otter.Notebook()"
   ]
  },
  {
   "cell_type": "code",
   "execution_count": 53,
   "metadata": {},
   "outputs": [],
   "source": [
    "import pandas as pd\n",
    "import numpy as np\n",
    "import matplotlib.pyplot as plt\n",
    "\n",
    "pd.set_option('display.max_colwidth', -1)\n",
    "\n",
    "df_main = pd.read_csv(\"insurance_data.csv\")"
   ]
  },
  {
   "cell_type": "markdown",
   "metadata": {
    "deletable": false,
    "editable": false
   },
   "source": [
    "**Question 1:** Set the index of df_main to id.  \n",
    "**Answering Guidelines: ** Your answer is the updated df_main. You do not need to explicitly assign this to any answer variable.\n",
    "<!--\n",
    "BEGIN QUESTION\n",
    "name: q1\n",
    "points: 2\n",
    "-->"
   ]
  },
  {
   "cell_type": "code",
   "execution_count": 54,
   "metadata": {},
   "outputs": [
    {
     "data": {
      "text/html": [
       "<div>\n",
       "<style scoped>\n",
       "    .dataframe tbody tr th:only-of-type {\n",
       "        vertical-align: middle;\n",
       "    }\n",
       "\n",
       "    .dataframe tbody tr th {\n",
       "        vertical-align: top;\n",
       "    }\n",
       "\n",
       "    .dataframe thead th {\n",
       "        text-align: right;\n",
       "    }\n",
       "</style>\n",
       "<table border=\"1\" class=\"dataframe\">\n",
       "  <thead>\n",
       "    <tr style=\"text-align: right;\">\n",
       "      <th></th>\n",
       "      <th>Gender</th>\n",
       "      <th>Age</th>\n",
       "      <th>Driving_License</th>\n",
       "      <th>Region_Code</th>\n",
       "      <th>Previously_Insured</th>\n",
       "      <th>Vehicle_Age</th>\n",
       "      <th>Vehicle_Damage</th>\n",
       "      <th>Annual_Premium</th>\n",
       "      <th>Policy_Sales_Channel</th>\n",
       "      <th>Vintage</th>\n",
       "    </tr>\n",
       "    <tr>\n",
       "      <th>id</th>\n",
       "      <th></th>\n",
       "      <th></th>\n",
       "      <th></th>\n",
       "      <th></th>\n",
       "      <th></th>\n",
       "      <th></th>\n",
       "      <th></th>\n",
       "      <th></th>\n",
       "      <th></th>\n",
       "      <th></th>\n",
       "    </tr>\n",
       "  </thead>\n",
       "  <tbody>\n",
       "    <tr>\n",
       "      <td>381110</td>\n",
       "      <td>Male</td>\n",
       "      <td>25</td>\n",
       "      <td>1</td>\n",
       "      <td>11.0</td>\n",
       "      <td>1</td>\n",
       "      <td>&lt; 1 Year</td>\n",
       "      <td>No</td>\n",
       "      <td>35786.0</td>\n",
       "      <td>152.0</td>\n",
       "      <td>53</td>\n",
       "    </tr>\n",
       "    <tr>\n",
       "      <td>381111</td>\n",
       "      <td>Male</td>\n",
       "      <td>40</td>\n",
       "      <td>1</td>\n",
       "      <td>28.0</td>\n",
       "      <td>0</td>\n",
       "      <td>1-2 Year</td>\n",
       "      <td>Yes</td>\n",
       "      <td>33762.0</td>\n",
       "      <td>7.0</td>\n",
       "      <td>111</td>\n",
       "    </tr>\n",
       "    <tr>\n",
       "      <td>381112</td>\n",
       "      <td>Male</td>\n",
       "      <td>47</td>\n",
       "      <td>1</td>\n",
       "      <td>28.0</td>\n",
       "      <td>0</td>\n",
       "      <td>1-2 Year</td>\n",
       "      <td>Yes</td>\n",
       "      <td>40050.0</td>\n",
       "      <td>124.0</td>\n",
       "      <td>199</td>\n",
       "    </tr>\n",
       "    <tr>\n",
       "      <td>381113</td>\n",
       "      <td>Male</td>\n",
       "      <td>24</td>\n",
       "      <td>1</td>\n",
       "      <td>27.0</td>\n",
       "      <td>1</td>\n",
       "      <td>&lt; 1 Year</td>\n",
       "      <td>Yes</td>\n",
       "      <td>37356.0</td>\n",
       "      <td>152.0</td>\n",
       "      <td>187</td>\n",
       "    </tr>\n",
       "    <tr>\n",
       "      <td>381114</td>\n",
       "      <td>Male</td>\n",
       "      <td>27</td>\n",
       "      <td>1</td>\n",
       "      <td>28.0</td>\n",
       "      <td>1</td>\n",
       "      <td>&lt; 1 Year</td>\n",
       "      <td>No</td>\n",
       "      <td>59097.0</td>\n",
       "      <td>152.0</td>\n",
       "      <td>297</td>\n",
       "    </tr>\n",
       "  </tbody>\n",
       "</table>\n",
       "</div>"
      ],
      "text/plain": [
       "       Gender  Age  Driving_License  Region_Code  Previously_Insured  \\\n",
       "id                                                                     \n",
       "381110  Male   25   1                11.0         1                    \n",
       "381111  Male   40   1                28.0         0                    \n",
       "381112  Male   47   1                28.0         0                    \n",
       "381113  Male   24   1                27.0         1                    \n",
       "381114  Male   27   1                28.0         1                    \n",
       "\n",
       "       Vehicle_Age Vehicle_Damage  Annual_Premium  Policy_Sales_Channel  \\\n",
       "id                                                                        \n",
       "381110  < 1 Year    No             35786.0         152.0                  \n",
       "381111  1-2 Year    Yes            33762.0         7.0                    \n",
       "381112  1-2 Year    Yes            40050.0         124.0                  \n",
       "381113  < 1 Year    Yes            37356.0         152.0                  \n",
       "381114  < 1 Year    No             59097.0         152.0                  \n",
       "\n",
       "        Vintage  \n",
       "id               \n",
       "381110  53       \n",
       "381111  111      \n",
       "381112  199      \n",
       "381113  187      \n",
       "381114  297      "
      ]
     },
     "execution_count": 54,
     "metadata": {},
     "output_type": "execute_result"
    }
   ],
   "source": [
    "df_main.set_index(\"id\", inplace = True)\n",
    "df_main.head()"
   ]
  },
  {
   "cell_type": "code",
   "execution_count": 55,
   "metadata": {
    "deletable": false,
    "editable": false
   },
   "outputs": [
    {
     "data": {
      "text/html": [
       "\n",
       "    \n",
       "    \n",
       "        <p>All tests passed!</p>\n",
       "    \n",
       "    "
      ],
      "text/plain": [
       "\n",
       "    All tests passed!\n",
       "    "
      ]
     },
     "execution_count": 55,
     "metadata": {},
     "output_type": "execute_result"
    }
   ],
   "source": [
    "grader.check(\"q1\")"
   ]
  },
  {
   "cell_type": "markdown",
   "metadata": {
    "deletable": false,
    "editable": false
   },
   "source": [
    "**Question 2:** Use the describe() function to calculate the standard deviation of Annual_Premium.  \n",
    "**Answering Guidelines: ** Your answer is a float variable that needs to be assigned to answer2. The answer has 6 dp (simply copy the answer from describe()'s output as it is).\n",
    "<!--\n",
    "BEGIN QUESTION\n",
    "name: q2\n",
    "points: 2\n",
    "-->"
   ]
  },
  {
   "cell_type": "code",
   "execution_count": 56,
   "metadata": {},
   "outputs": [
    {
     "name": "stdout",
     "output_type": "stream",
     "text": [
      "                 Age  Driving_License    Region_Code  Previously_Insured  \\\n",
      "count  127037.000000  127037.000000    127037.000000  127037.000000        \n",
      "mean   38.765903      0.998134         26.459866      0.460039             \n",
      "std    15.465814      0.043152         13.209916      0.498403             \n",
      "min    20.000000      0.000000         0.000000       0.000000             \n",
      "25%    25.000000      1.000000         15.000000      0.000000             \n",
      "50%    36.000000      1.000000         28.000000      0.000000             \n",
      "75%    49.000000      1.000000         35.000000      1.000000             \n",
      "max    85.000000      1.000000         52.000000      1.000000             \n",
      "\n",
      "       Annual_Premium  Policy_Sales_Channel        Vintage  \n",
      "count  127037.000000   127037.000000         127037.000000  \n",
      "mean   30524.643576    111.800468            154.318301     \n",
      "std    16945.297103    54.371765             83.661588      \n",
      "min    2630.000000     1.000000              10.000000      \n",
      "25%    24325.000000    26.000000             82.000000      \n",
      "50%    31642.000000    135.000000            154.000000     \n",
      "75%    39408.000000    152.000000            227.000000     \n",
      "max    472042.000000   163.000000            299.000000     \n"
     ]
    },
    {
     "data": {
      "text/plain": [
       "16945.297103"
      ]
     },
     "execution_count": 56,
     "metadata": {},
     "output_type": "execute_result"
    }
   ],
   "source": [
    "df_q2 = df_main.describe()\n",
    "\n",
    "print(df_q2)\n",
    "\n",
    "answer2 = df_q2['Annual_Premium']['std'].round(6)\n",
    "answer2"
   ]
  },
  {
   "cell_type": "code",
   "execution_count": 57,
   "metadata": {
    "deletable": false,
    "editable": false
   },
   "outputs": [
    {
     "data": {
      "text/html": [
       "\n",
       "    \n",
       "    \n",
       "        <p>All tests passed!</p>\n",
       "    \n",
       "    "
      ],
      "text/plain": [
       "\n",
       "    All tests passed!\n",
       "    "
      ]
     },
     "execution_count": 57,
     "metadata": {},
     "output_type": "execute_result"
    }
   ],
   "source": [
    "grader.check(\"q2\")"
   ]
  },
  {
   "cell_type": "markdown",
   "metadata": {
    "deletable": false,
    "editable": false
   },
   "source": [
    "**Question 3:** What does each the Vintage column in the dataset mean?\n",
    "Hint: build a dataframe using the 2 series in the cell below to answer the question.   \n",
    "**Answering Guidelines: ** Your answer must be in a string format and should be assigned to answer3.\n",
    "<!--\n",
    "BEGIN QUESTION\n",
    "name: q3\n",
    "points: 6\n",
    "-->"
   ]
  },
  {
   "cell_type": "code",
   "execution_count": 58,
   "metadata": {},
   "outputs": [
    {
     "data": {
      "text/plain": [
       "'Number of Days, Customer has been associated with the company'"
      ]
     },
     "execution_count": 58,
     "metadata": {},
     "output_type": "execute_result"
    }
   ],
   "source": [
    "variables = pd.Series([\"id\"] + df_main.columns.tolist())\n",
    "definition = pd.Series([\"Unique ID for the customer\", \"Gender of the customer\", \"Age of the customer\", \"0 : Customer does not have DL, 1 : Customer already has DL\", \"Unique code for the region of the customer\", \"1 : Customer already has Vehicle Insurance, 0 : Customer doesn't have Vehicle Insurance\", \"Age of the Vehicle\", \"1 : Customer got his/her vehicle damaged in the past. 0 : Customer didn't get his/her vehicle damaged in the past.\", \"The amount customer needs to pay as premium in the year\", \"Anonymized Code for the channel of outreaching to the customer ie. Different Agents, Over Mail, Over Phone, In Person, etc.\", \"Number of Days, Customer has been associated with the company\"])\n",
    "\n",
    "df_q3 = pd.DataFrame({\"Variables\":variables, \"Definition\":definition})\n",
    "\n",
    "df_q3.set_index(\"Variables\", inplace = True)\n",
    "\n",
    "myrow = df_q3.loc[\"Vintage\"].values[0]\n",
    "answer3 = str(myrow)\n",
    "\n",
    "answer3"
   ]
  },
  {
   "cell_type": "code",
   "execution_count": 59,
   "metadata": {
    "deletable": false,
    "editable": false
   },
   "outputs": [
    {
     "data": {
      "text/html": [
       "\n",
       "    \n",
       "    \n",
       "        <p>All tests passed!</p>\n",
       "    \n",
       "    "
      ],
      "text/plain": [
       "\n",
       "    All tests passed!\n",
       "    "
      ]
     },
     "execution_count": 59,
     "metadata": {},
     "output_type": "execute_result"
    }
   ],
   "source": [
    "grader.check(\"q3\")"
   ]
  },
  {
   "cell_type": "markdown",
   "metadata": {
    "deletable": false,
    "editable": false
   },
   "source": [
    "**Question 4:** Do males pay more annual premium than females? Create a new dataframe using the original dataframe df_main to answer the question.   \n",
    "**Answering Guidelines: ** The answer4 variable needs to be 'Yes' if Males pay more and 'No' if they do not.\n",
    "<!--\n",
    "BEGIN QUESTION\n",
    "name: q4\n",
    "points: 7\n",
    "-->"
   ]
  },
  {
   "cell_type": "code",
   "execution_count": 60,
   "metadata": {},
   "outputs": [
    {
     "name": "stdout",
     "output_type": "stream",
     "text": [
      "        Gender  Age  Driving_License  Region_Code  Previously_Insured  \\\n",
      "id                                                                      \n",
      "381116  Female  51   1                37.0         1                    \n",
      "381119  Female  37   1                12.0         1                    \n",
      "381122  Female  23   1                46.0         1                    \n",
      "381124  Female  55   1                48.0         0                    \n",
      "381129  Female  28   1                37.0         1                    \n",
      "...        ...  ..  ..                 ...        ..                    \n",
      "508135  Female  54   1                26.0         0                    \n",
      "508136  Female  28   1                8.0          1                    \n",
      "508140  Female  71   1                3.0          1                    \n",
      "508142  Female  26   1                37.0         1                    \n",
      "508143  Female  38   1                28.0         0                    \n",
      "\n",
      "       Vehicle_Age Vehicle_Damage  Annual_Premium  Policy_Sales_Channel  \\\n",
      "id                                                                        \n",
      "381116  1-2 Year    No             40118.0         26.0                   \n",
      "381119  1-2 Year    No             27124.0         124.0                  \n",
      "381122  < 1 Year    No             27688.0         26.0                   \n",
      "381124  1-2 Year    Yes            2630.0          124.0                  \n",
      "381129  < 1 Year    No             34907.0         152.0                  \n",
      "...          ...    ...               ...            ...                  \n",
      "508135  1-2 Year    Yes            28395.0         26.0                   \n",
      "508136  < 1 Year    No             2630.0          151.0                  \n",
      "508140  1-2 Year    No             2630.0          124.0                  \n",
      "508142  < 1 Year    No             30867.0         152.0                  \n",
      "508143  1-2 Year    Yes            28700.0         122.0                  \n",
      "\n",
      "        Vintage  \n",
      "id               \n",
      "381116  107      \n",
      "381119  133      \n",
      "381122  29       \n",
      "381124  169      \n",
      "381129  293      \n",
      "...     ...      \n",
      "508135  204      \n",
      "508136  51       \n",
      "508140  147      \n",
      "508142  56       \n",
      "508143  165      \n",
      "\n",
      "[58801 rows x 10 columns]\n"
     ]
    },
    {
     "data": {
      "text/plain": [
       "'Yes'"
      ]
     },
     "execution_count": 60,
     "metadata": {},
     "output_type": "execute_result"
    }
   ],
   "source": [
    "answer4 = '' \n",
    "\n",
    "male_sum = df_main[(df_main['Gender'] == \"Male\")].Annual_Premium.sum()\n",
    "male_sum\n",
    "female_sum = df_main[df_main['Gender'] == \"Female\"].Annual_Premium.sum()\n",
    "female_sum\n",
    "df_q4 = df_main[df_main['Gender'] == \"Female\"]\n",
    "if female_sum < male_sum:\n",
    "    var = 'Yes'\n",
    "else:\n",
    "    var = 'No'\n",
    "\n",
    "    \n",
    "answer4 = var\n",
    "\n",
    "print(df_q4)\n",
    "answer4"
   ]
  },
  {
   "cell_type": "code",
   "execution_count": 61,
   "metadata": {
    "deletable": false,
    "editable": false
   },
   "outputs": [
    {
     "data": {
      "text/html": [
       "\n",
       "    \n",
       "    \n",
       "        <p>All tests passed!</p>\n",
       "    \n",
       "    "
      ],
      "text/plain": [
       "\n",
       "    All tests passed!\n",
       "    "
      ]
     },
     "execution_count": 61,
     "metadata": {},
     "output_type": "execute_result"
    }
   ],
   "source": [
    "grader.check(\"q4\")"
   ]
  },
  {
   "cell_type": "markdown",
   "metadata": {
    "deletable": false,
    "editable": false
   },
   "source": [
    "**Question 5:** Does the damage of the vehicle change your previous answer? Create a new dataframe using the original dataframe df_main to answer the question. The answer of this question must answer if males pay more premium than females given that vehicle damage is taken into consideration.   \n",
    "**Answering Guidelines: ** The answer5 variable needs to be 'Yes' if Males strictly pay more (in all scenarios) and 'No' if they do not.\n",
    "<!--\n",
    "BEGIN QUESTION\n",
    "name: q5\n",
    "points: 7\n",
    "-->"
   ]
  },
  {
   "cell_type": "code",
   "execution_count": 62,
   "metadata": {},
   "outputs": [
    {
     "name": "stdout",
     "output_type": "stream",
     "text": [
      "       Gender  Age  Driving_License  Region_Code  Previously_Insured  \\\n",
      "id                                                                     \n",
      "381111  Male   40   1                28.0         0                    \n",
      "381112  Male   47   1                28.0         0                    \n",
      "381113  Male   24   1                27.0         1                    \n",
      "381118  Male   42   1                41.0         0                    \n",
      "381121  Male   64   1                28.0         0                    \n",
      "...      ...   ..  ..                 ...        ..                    \n",
      "508125  Male   23   1                28.0         0                    \n",
      "508126  Male   55   1                28.0         0                    \n",
      "508128  Male   52   1                28.0         0                    \n",
      "508129  Male   60   1                28.0         0                    \n",
      "508132  Male   48   1                14.0         0                    \n",
      "\n",
      "       Vehicle_Age Vehicle_Damage  Annual_Premium  Policy_Sales_Channel  \\\n",
      "id                                                                        \n",
      "381111  1-2 Year    Yes            33762.0         7.0                    \n",
      "381112  1-2 Year    Yes            40050.0         124.0                  \n",
      "381113  < 1 Year    Yes            37356.0         152.0                  \n",
      "381118  1-2 Year    Yes            2630.0          26.0                   \n",
      "381121  > 2 Years   Yes            32051.0         124.0                  \n",
      "...          ...    ...               ...           ...                   \n",
      "508125  < 1 Year    Yes            47383.0         163.0                  \n",
      "508126  1-2 Year    Yes            52683.0         122.0                  \n",
      "508128  > 2 Years   Yes            36768.0         26.0                   \n",
      "508129  1-2 Year    Yes            41142.0         26.0                   \n",
      "508132  1-2 Year    Yes            32918.0         124.0                  \n",
      "\n",
      "        Vintage  \n",
      "id               \n",
      "381111  111      \n",
      "381112  199      \n",
      "381113  187      \n",
      "381118  277      \n",
      "381121  254      \n",
      "...     ...      \n",
      "508125  40       \n",
      "508126  21       \n",
      "508128  87       \n",
      "508129  222      \n",
      "508132  287      \n",
      "\n",
      "[37273 rows x 10 columns]\n"
     ]
    },
    {
     "data": {
      "text/plain": [
       "'No'"
      ]
     },
     "execution_count": 62,
     "metadata": {},
     "output_type": "execute_result"
    }
   ],
   "source": [
    "answer5 = ''\n",
    "\n",
    "male_withcar_sum = df_main[(df_main['Gender'] == \"Male\") & (df_main['Vehicle_Damage'] == \"Yes\")].Annual_Premium.sum()\n",
    "male_withcar_sum\n",
    "male_withoutcar_sum = df_main[(df_main['Gender'] == \"Male\") & (df_main['Vehicle_Damage'] == \"No\")].Annual_Premium.sum()\n",
    "male_withoutcar_sum\n",
    "female_withcar_sum = df_main[(df_main['Gender'] == \"Female\") & (df_main['Vehicle_Damage'] == \"Yes\")].Annual_Premium.sum()\n",
    "female_withcar_sum\n",
    "female_withoutcar_sum = df_main[(df_main['Gender'] == \"Female\") & (df_main['Vehicle_Damage'] == \"No\")].Annual_Premium.sum()\n",
    "female_withoutcar_sum\n",
    "\n",
    "\n",
    "df_q5 = df_main[(df_main['Gender'] == \"Male\") & (df_main['Vehicle_Damage'] == \"Yes\")]\n",
    "\n",
    "if (female_withcar_sum < male_withcar_sum) and (female_withoutcar_sum < male_withoutcar_sum):\n",
    "    var = 'Yes'\n",
    "else:\n",
    "    var = 'No'\n",
    "\n",
    "answer5 = var\n",
    "\n",
    "print(df_q5)\n",
    "answer5"
   ]
  },
  {
   "cell_type": "code",
   "execution_count": 63,
   "metadata": {
    "deletable": false,
    "editable": false
   },
   "outputs": [
    {
     "data": {
      "text/html": [
       "\n",
       "    \n",
       "    \n",
       "        <p>All tests passed!</p>\n",
       "    \n",
       "    "
      ],
      "text/plain": [
       "\n",
       "    All tests passed!\n",
       "    "
      ]
     },
     "execution_count": 63,
     "metadata": {},
     "output_type": "execute_result"
    }
   ],
   "source": [
    "grader.check(\"q5\")"
   ]
  },
  {
   "cell_type": "markdown",
   "metadata": {
    "deletable": false,
    "editable": false
   },
   "source": [
    "**Question 6:** What is the most popular vehicle age? Create a new dataframe using the original dataframe df_main to answer the question.  \n",
    "**Answering Guidelines: ** Your answer is a string stored in answer6.\n",
    "<!--\n",
    "BEGIN QUESTION\n",
    "name: q6\n",
    "points: 7\n",
    "-->"
   ]
  },
  {
   "cell_type": "code",
   "execution_count": 64,
   "metadata": {},
   "outputs": [
    {
     "name": "stdout",
     "output_type": "stream",
     "text": [
      "1-2 Year     66699\n",
      "< 1 Year     55019\n",
      "> 2 Years    5319 \n",
      "Name: Vehicle_Age, dtype: int64\n"
     ]
    },
    {
     "data": {
      "text/plain": [
       "'1-2 Year'"
      ]
     },
     "execution_count": 64,
     "metadata": {},
     "output_type": "execute_result"
    }
   ],
   "source": [
    "df_q6 = df_main['Vehicle_Age'].value_counts()\n",
    "\n",
    "\n",
    "print(df_q6)\n",
    "\n",
    "answer6 = '1-2 Year'\n",
    "\n",
    "answer6"
   ]
  },
  {
   "cell_type": "code",
   "execution_count": 65,
   "metadata": {
    "deletable": false,
    "editable": false
   },
   "outputs": [
    {
     "data": {
      "text/html": [
       "\n",
       "    \n",
       "    \n",
       "        <p>All tests passed!</p>\n",
       "    \n",
       "    "
      ],
      "text/plain": [
       "\n",
       "    All tests passed!\n",
       "    "
      ]
     },
     "execution_count": 65,
     "metadata": {},
     "output_type": "execute_result"
    }
   ],
   "source": [
    "grader.check(\"q6\")"
   ]
  },
  {
   "cell_type": "markdown",
   "metadata": {},
   "source": [
    "**Question 7:** A Checkpoint to let you know that you are doing great and are almost done!"
   ]
  },
  {
   "cell_type": "markdown",
   "metadata": {
    "deletable": false,
    "editable": false
   },
   "source": [
    "**Question 8:** Show the trends (using a vertical bar chart) of the number of customers with no driving license as age increases. Which age has the most customers with no driving license?  \n",
    "**Answering Guidelines: ** Answer8 is an int.\n",
    "<!--\n",
    "BEGIN QUESTION\n",
    "name: q8\n",
    "points: 5\n",
    "-->"
   ]
  },
  {
   "cell_type": "code",
   "execution_count": 66,
   "metadata": {},
   "outputs": [
    {
     "name": "stdout",
     "output_type": "stream",
     "text": [
      "     counts\n",
      "Age        \n",
      "65   14    \n",
      "73   13    \n",
      "70   12    \n",
      "64   12    \n",
      "69   12    \n",
      "77   11    \n",
      "71   11    \n",
      "78   11    \n",
      "66   11    \n",
      "76   10    \n",
      "75   10    \n",
      "72   9     \n",
      "68   9     \n",
      "74   7     \n",
      "67   6     \n",
      "59   6     \n",
      "79   5     \n",
      "80   5     \n",
      "49   5     \n",
      "62   5     \n",
      "56   4     \n",
      "54   4     \n",
      "57   4     \n",
      "63   4     \n",
      "82   4     \n",
      "53   4     \n",
      "45   3     \n",
      "58   3     \n",
      "81   3     \n",
      "44   2     \n",
      "48   2     \n",
      "26   2     \n",
      "52   2     \n",
      "55   2     \n",
      "60   2     \n",
      "51   1     \n",
      "50   1     \n",
      "47   1     \n",
      "83   1     \n",
      "42   1     \n",
      "41   1     \n",
      "36   1     \n",
      "84   1     \n"
     ]
    },
    {
     "data": {
      "image/png": "[encoded data removed]",
      "text/plain": [
       "<Figure size 1440x720 with 1 Axes>"
      ]
     },
     "metadata": {
      "needs_background": "light"
     },
     "output_type": "display_data"
    }
   ],
   "source": [
    "df1 = df_main[df_main['Driving_License'] == 0]\n",
    "df_q8_nolicense = df1[[\"Age\", \"Driving_License\"]]\n",
    "df_q8_nolicense\n",
    "unique_age = df1['Age'].unique()\n",
    "unique_age\n",
    "# df_q8_nolicense.plot.bar(y='count')\n",
    "bargraph = df_q8_nolicense['Age'].value_counts().plot(kind='bar', figsize = (20,10))\n",
    "\n",
    "df_q8 = df_q8_nolicense['Age'].value_counts().rename_axis('Age').reset_index(name='counts')\n",
    "df_q8.set_index('Age', inplace=True)\n",
    "print(df_q8)\n",
    "\n",
    "answer8 = 65"
   ]
  },
  {
   "cell_type": "code",
   "execution_count": 67,
   "metadata": {
    "deletable": false,
    "editable": false
   },
   "outputs": [
    {
     "data": {
      "text/html": [
       "\n",
       "    \n",
       "    \n",
       "        <p>All tests passed!</p>\n",
       "    \n",
       "    "
      ],
      "text/plain": [
       "\n",
       "    All tests passed!\n",
       "    "
      ]
     },
     "execution_count": 67,
     "metadata": {},
     "output_type": "execute_result"
    }
   ],
   "source": [
    "grader.check(\"q8\")"
   ]
  },
  {
   "cell_type": "markdown",
   "metadata": {
    "deletable": false,
    "editable": false
   },
   "source": [
    "**Question 9:** Which region has the lowest ratio of vintage to age?   \n",
    "**Answering Guidelines: ** Your answer must be a string like '0.0' stored in answer9.\n",
    "<!--\n",
    "BEGIN QUESTION\n",
    "name: q9\n",
    "points: 8\n",
    "-->"
   ]
  },
  {
   "cell_type": "code",
   "execution_count": 68,
   "metadata": {},
   "outputs": [
    {
     "name": "stdout",
     "output_type": "stream",
     "text": [
      "        Gender  Age  Driving_License  Region_Code  Previously_Insured  \\\n",
      "id                                                                      \n",
      "381110  Male    25   1                11.0         1                    \n",
      "381111  Male    40   1                28.0         0                    \n",
      "381112  Male    47   1                28.0         0                    \n",
      "381113  Male    24   1                27.0         1                    \n",
      "381114  Male    27   1                28.0         1                    \n",
      "...      ...    ..  ..                 ...        ..                    \n",
      "508142  Female  26   1                37.0         1                    \n",
      "508143  Female  38   1                28.0         0                    \n",
      "508144  Male    21   1                46.0         1                    \n",
      "508145  Male    71   1                28.0         1                    \n",
      "508146  Male    41   1                29.0         1                    \n",
      "\n",
      "       Vehicle_Age Vehicle_Damage  Annual_Premium  Policy_Sales_Channel  \\\n",
      "id                                                                        \n",
      "381110  < 1 Year    No             35786.0         152.0                  \n",
      "381111  1-2 Year    Yes            33762.0         7.0                    \n",
      "381112  1-2 Year    Yes            40050.0         124.0                  \n",
      "381113  < 1 Year    Yes            37356.0         152.0                  \n",
      "381114  < 1 Year    No             59097.0         152.0                  \n",
      "...          ...    ...                ...           ...                  \n",
      "508142  < 1 Year    No             30867.0         152.0                  \n",
      "508143  1-2 Year    Yes            28700.0         122.0                  \n",
      "508144  < 1 Year    No             29802.0         152.0                  \n",
      "508145  1-2 Year    No             62875.0         26.0                   \n",
      "508146  1-2 Year    No             27927.0         124.0                  \n",
      "\n",
      "        Vintage      ratio  \n",
      "id                          \n",
      "381110  53       2.120000   \n",
      "381111  111      2.775000   \n",
      "381112  199      4.234043   \n",
      "381113  187      7.791667   \n",
      "381114  297      11.000000  \n",
      "...     ...           ...   \n",
      "508142  56       2.153846   \n",
      "508143  165      4.342105   \n",
      "508144  74       3.523810   \n",
      "508145  265      3.732394   \n",
      "508146  231      5.634146   \n",
      "\n",
      "[127037 rows x 11 columns]\n"
     ]
    },
    {
     "data": {
      "text/plain": [
       "'28.0'"
      ]
     },
     "execution_count": 68,
     "metadata": {},
     "output_type": "execute_result"
    }
   ],
   "source": [
    "answer9 = ''\n",
    "df_q9 = df_main\n",
    "df_q9['ratio'] = df_q9['Vintage'] / df_q9['Age']\n",
    "df_q9_extracted = df_q9[[\"Region_Code\", \"ratio\"]]\n",
    "# df_q9_grouped = df_q9_extracted.groupby('Region_Code').sum()\n",
    "\n",
    "min_index = df_q9_extracted[\"ratio\"].idxmin()\n",
    "min_val = df_q9_extracted.loc[min_index, 'Region_Code']\n",
    "min_val\n",
    "answer9 = str(min_val)\n",
    "\n",
    "print(df_q9)\n",
    "answer9"
   ]
  },
  {
   "cell_type": "code",
   "execution_count": 69,
   "metadata": {
    "deletable": false,
    "editable": false
   },
   "outputs": [
    {
     "data": {
      "text/html": [
       "\n",
       "    \n",
       "    \n",
       "        <p>All tests passed!</p>\n",
       "    \n",
       "    "
      ],
      "text/plain": [
       "\n",
       "    All tests passed!\n",
       "    "
      ]
     },
     "execution_count": 69,
     "metadata": {},
     "output_type": "execute_result"
    }
   ],
   "source": [
    "grader.check(\"q9\")"
   ]
  },
  {
   "cell_type": "markdown",
   "metadata": {
    "deletable": false,
    "editable": false
   },
   "source": [
    "**Question 10:** Replace the values in 'Vehicle_Age' column (in df_main) with integers that denote the existing groups for example: 0 denotes '< 1 Year', 1 denotes '1-2 Year' and so on. Hint: use a function to find the distinct values in the column.  \n",
    "**Answering Guidelines: ** Your answer needs to update df_main directly. Hint: Perhaps using an intermediary data structure will be useful.\n",
    "<!--\n",
    "BEGIN QUESTION\n",
    "name: q10\n",
    "points: 10\n",
    "-->"
   ]
  },
  {
   "cell_type": "code",
   "execution_count": 70,
   "metadata": {},
   "outputs": [
    {
     "data": {
      "text/html": [
       "<div>\n",
       "<style scoped>\n",
       "    .dataframe tbody tr th:only-of-type {\n",
       "        vertical-align: middle;\n",
       "    }\n",
       "\n",
       "    .dataframe tbody tr th {\n",
       "        vertical-align: top;\n",
       "    }\n",
       "\n",
       "    .dataframe thead th {\n",
       "        text-align: right;\n",
       "    }\n",
       "</style>\n",
       "<table border=\"1\" class=\"dataframe\">\n",
       "  <thead>\n",
       "    <tr style=\"text-align: right;\">\n",
       "      <th></th>\n",
       "      <th>Gender</th>\n",
       "      <th>Age</th>\n",
       "      <th>Driving_License</th>\n",
       "      <th>Region_Code</th>\n",
       "      <th>Previously_Insured</th>\n",
       "      <th>Vehicle_Age</th>\n",
       "      <th>Vehicle_Damage</th>\n",
       "      <th>Annual_Premium</th>\n",
       "      <th>Policy_Sales_Channel</th>\n",
       "      <th>Vintage</th>\n",
       "      <th>ratio</th>\n",
       "    </tr>\n",
       "    <tr>\n",
       "      <th>id</th>\n",
       "      <th></th>\n",
       "      <th></th>\n",
       "      <th></th>\n",
       "      <th></th>\n",
       "      <th></th>\n",
       "      <th></th>\n",
       "      <th></th>\n",
       "      <th></th>\n",
       "      <th></th>\n",
       "      <th></th>\n",
       "      <th></th>\n",
       "    </tr>\n",
       "  </thead>\n",
       "  <tbody>\n",
       "    <tr>\n",
       "      <td>381110</td>\n",
       "      <td>Male</td>\n",
       "      <td>25</td>\n",
       "      <td>1</td>\n",
       "      <td>11.0</td>\n",
       "      <td>1</td>\n",
       "      <td>0</td>\n",
       "      <td>No</td>\n",
       "      <td>35786.0</td>\n",
       "      <td>152.0</td>\n",
       "      <td>53</td>\n",
       "      <td>2.120000</td>\n",
       "    </tr>\n",
       "    <tr>\n",
       "      <td>381111</td>\n",
       "      <td>Male</td>\n",
       "      <td>40</td>\n",
       "      <td>1</td>\n",
       "      <td>28.0</td>\n",
       "      <td>0</td>\n",
       "      <td>1</td>\n",
       "      <td>Yes</td>\n",
       "      <td>33762.0</td>\n",
       "      <td>7.0</td>\n",
       "      <td>111</td>\n",
       "      <td>2.775000</td>\n",
       "    </tr>\n",
       "    <tr>\n",
       "      <td>381112</td>\n",
       "      <td>Male</td>\n",
       "      <td>47</td>\n",
       "      <td>1</td>\n",
       "      <td>28.0</td>\n",
       "      <td>0</td>\n",
       "      <td>1</td>\n",
       "      <td>Yes</td>\n",
       "      <td>40050.0</td>\n",
       "      <td>124.0</td>\n",
       "      <td>199</td>\n",
       "      <td>4.234043</td>\n",
       "    </tr>\n",
       "    <tr>\n",
       "      <td>381113</td>\n",
       "      <td>Male</td>\n",
       "      <td>24</td>\n",
       "      <td>1</td>\n",
       "      <td>27.0</td>\n",
       "      <td>1</td>\n",
       "      <td>0</td>\n",
       "      <td>Yes</td>\n",
       "      <td>37356.0</td>\n",
       "      <td>152.0</td>\n",
       "      <td>187</td>\n",
       "      <td>7.791667</td>\n",
       "    </tr>\n",
       "    <tr>\n",
       "      <td>381114</td>\n",
       "      <td>Male</td>\n",
       "      <td>27</td>\n",
       "      <td>1</td>\n",
       "      <td>28.0</td>\n",
       "      <td>1</td>\n",
       "      <td>0</td>\n",
       "      <td>No</td>\n",
       "      <td>59097.0</td>\n",
       "      <td>152.0</td>\n",
       "      <td>297</td>\n",
       "      <td>11.000000</td>\n",
       "    </tr>\n",
       "  </tbody>\n",
       "</table>\n",
       "</div>"
      ],
      "text/plain": [
       "       Gender  Age  Driving_License  Region_Code  Previously_Insured  \\\n",
       "id                                                                     \n",
       "381110  Male   25   1                11.0         1                    \n",
       "381111  Male   40   1                28.0         0                    \n",
       "381112  Male   47   1                28.0         0                    \n",
       "381113  Male   24   1                27.0         1                    \n",
       "381114  Male   27   1                28.0         1                    \n",
       "\n",
       "        Vehicle_Age Vehicle_Damage  Annual_Premium  Policy_Sales_Channel  \\\n",
       "id                                                                         \n",
       "381110  0            No             35786.0         152.0                  \n",
       "381111  1            Yes            33762.0         7.0                    \n",
       "381112  1            Yes            40050.0         124.0                  \n",
       "381113  0            Yes            37356.0         152.0                  \n",
       "381114  0            No             59097.0         152.0                  \n",
       "\n",
       "        Vintage      ratio  \n",
       "id                          \n",
       "381110  53       2.120000   \n",
       "381111  111      2.775000   \n",
       "381112  199      4.234043   \n",
       "381113  187      7.791667   \n",
       "381114  297      11.000000  "
      ]
     },
     "execution_count": 70,
     "metadata": {},
     "output_type": "execute_result"
    }
   ],
   "source": [
    "df_10 = df_main['Vehicle_Age'].unique()\n",
    "df_10\n",
    "\n",
    "df_main['Vehicle_Age'] = df_main['Vehicle_Age'].replace({\"< 1 Year\" : 0, \"1-2 Year\" : 1, \"> 2 Years\": 2 })\n",
    "df_main.head()"
   ]
  },
  {
   "cell_type": "code",
   "execution_count": 78,
   "metadata": {
    "deletable": false,
    "editable": false
   },
   "outputs": [
    {
     "data": {
      "text/html": [
       "\n",
       "    \n",
       "    \n",
       "        <p>All tests passed!</p>\n",
       "    \n",
       "    "
      ],
      "text/plain": [
       "\n",
       "    All tests passed!\n",
       "    "
      ]
     },
     "execution_count": 78,
     "metadata": {},
     "output_type": "execute_result"
    }
   ],
   "source": [
    "grader.check(\"q10\")"
   ]
  },
  {
   "cell_type": "markdown",
   "metadata": {
    "deletable": false,
    "editable": false
   },
   "source": [
    "**Question 11:** What is the most popular customer gender in each region for vehicles that were not insured but had suffered damage?    \n",
    "**Answering Guidelines: ** Your answer is a dataframe stored in df_q11.\n",
    "\n",
    "<!--\n",
    "BEGIN QUESTION\n",
    "name: q11a\n",
    "points: 10\n",
    "-->"
   ]
  },
  {
   "cell_type": "code",
   "execution_count": 72,
   "metadata": {},
   "outputs": [
    {
     "data": {
      "text/html": [
       "<div>\n",
       "<style scoped>\n",
       "    .dataframe tbody tr th:only-of-type {\n",
       "        vertical-align: middle;\n",
       "    }\n",
       "\n",
       "    .dataframe tbody tr th {\n",
       "        vertical-align: top;\n",
       "    }\n",
       "\n",
       "    .dataframe thead th {\n",
       "        text-align: right;\n",
       "    }\n",
       "</style>\n",
       "<table border=\"1\" class=\"dataframe\">\n",
       "  <thead>\n",
       "    <tr style=\"text-align: right;\">\n",
       "      <th></th>\n",
       "      <th></th>\n",
       "      <th>Vehicle_Damage</th>\n",
       "    </tr>\n",
       "    <tr>\n",
       "      <th>Region_Code</th>\n",
       "      <th>Gender</th>\n",
       "      <th></th>\n",
       "    </tr>\n",
       "  </thead>\n",
       "  <tbody>\n",
       "    <tr>\n",
       "      <td rowspan=\"2\" valign=\"top\">0.0</td>\n",
       "      <td>Female</td>\n",
       "      <td>126</td>\n",
       "    </tr>\n",
       "    <tr>\n",
       "      <td>Male</td>\n",
       "      <td>264</td>\n",
       "    </tr>\n",
       "    <tr>\n",
       "      <td rowspan=\"2\" valign=\"top\">1.0</td>\n",
       "      <td>Female</td>\n",
       "      <td>68</td>\n",
       "    </tr>\n",
       "    <tr>\n",
       "      <td>Male</td>\n",
       "      <td>156</td>\n",
       "    </tr>\n",
       "    <tr>\n",
       "      <td>2.0</td>\n",
       "      <td>Female</td>\n",
       "      <td>271</td>\n",
       "    </tr>\n",
       "    <tr>\n",
       "      <td>...</td>\n",
       "      <td>...</td>\n",
       "      <td>...</td>\n",
       "    </tr>\n",
       "    <tr>\n",
       "      <td>50.0</td>\n",
       "      <td>Male</td>\n",
       "      <td>779</td>\n",
       "    </tr>\n",
       "    <tr>\n",
       "      <td rowspan=\"2\" valign=\"top\">51.0</td>\n",
       "      <td>Female</td>\n",
       "      <td>12</td>\n",
       "    </tr>\n",
       "    <tr>\n",
       "      <td>Male</td>\n",
       "      <td>36</td>\n",
       "    </tr>\n",
       "    <tr>\n",
       "      <td rowspan=\"2\" valign=\"top\">52.0</td>\n",
       "      <td>Female</td>\n",
       "      <td>12</td>\n",
       "    </tr>\n",
       "    <tr>\n",
       "      <td>Male</td>\n",
       "      <td>28</td>\n",
       "    </tr>\n",
       "  </tbody>\n",
       "</table>\n",
       "<p>106 rows × 1 columns</p>\n",
       "</div>"
      ],
      "text/plain": [
       "                    Vehicle_Damage\n",
       "Region_Code Gender                \n",
       "0.0         Female  126           \n",
       "            Male    264           \n",
       "1.0         Female  68            \n",
       "            Male    156           \n",
       "2.0         Female  271           \n",
       "...                 ...           \n",
       "50.0        Male    779           \n",
       "51.0        Female  12            \n",
       "            Male    36            \n",
       "52.0        Female  12            \n",
       "            Male    28            \n",
       "\n",
       "[106 rows x 1 columns]"
      ]
     },
     "execution_count": 72,
     "metadata": {},
     "output_type": "execute_result"
    }
   ],
   "source": [
    "df_11 = df_main[(df_main['Previously_Insured'] == 0) &  (df_main['Vehicle_Damage'] == 'Yes')]\n",
    "# df_11_ext = df_11[['Region_Code', 'Gender', 'Previously_Insured', 'Vehicle_Damage']] \n",
    "# df_11_ext\n",
    "df_11_grouped = pd.DataFrame(df_11[['Region_Code', 'Gender', 'Vehicle_Damage']].groupby(['Region_Code', 'Gender'])) \n",
    "df_11_grouped\n",
    "\n",
    "df_q11_group = pd.DataFrame(df_11.groupby(['Region_Code', 'Gender']).count()) \n",
    "df_q11 = df_q11_group[['Vehicle_Damage']]\n",
    "\n",
    "df_q11"
   ]
  },
  {
   "cell_type": "code",
   "execution_count": 73,
   "metadata": {
    "deletable": false,
    "editable": false
   },
   "outputs": [
    {
     "data": {
      "text/html": [
       "\n",
       "    \n",
       "    \n",
       "        <p>All tests passed!</p>\n",
       "    \n",
       "    "
      ],
      "text/plain": [
       "\n",
       "    All tests passed!\n",
       "    "
      ]
     },
     "execution_count": 73,
     "metadata": {},
     "output_type": "execute_result"
    }
   ],
   "source": [
    "grader.check(\"q11a\")"
   ]
  },
  {
   "cell_type": "markdown",
   "metadata": {
    "deletable": false,
    "editable": false
   },
   "source": [
    "**Question 12:** Make a pivot table showing the average vintage of each gender of each vehicle damage category.   \n",
    "**Answering Guidelines: ** Your answer is a dataframe stored in df_pivot.\n",
    "<!--\n",
    "BEGIN QUESTION\n",
    "name: q12\n",
    "points: 5\n",
    "-->"
   ]
  },
  {
   "cell_type": "code",
   "execution_count": 74,
   "metadata": {},
   "outputs": [
    {
     "data": {
      "text/html": [
       "<div>\n",
       "<style scoped>\n",
       "    .dataframe tbody tr th:only-of-type {\n",
       "        vertical-align: middle;\n",
       "    }\n",
       "\n",
       "    .dataframe tbody tr th {\n",
       "        vertical-align: top;\n",
       "    }\n",
       "\n",
       "    .dataframe thead tr th {\n",
       "        text-align: left;\n",
       "    }\n",
       "\n",
       "    .dataframe thead tr:last-of-type th {\n",
       "        text-align: right;\n",
       "    }\n",
       "</style>\n",
       "<table border=\"1\" class=\"dataframe\">\n",
       "  <thead>\n",
       "    <tr>\n",
       "      <th></th>\n",
       "      <th colspan=\"2\" halign=\"left\">Vintage</th>\n",
       "    </tr>\n",
       "    <tr>\n",
       "      <th>Vehicle_Damage</th>\n",
       "      <th>No</th>\n",
       "      <th>Yes</th>\n",
       "    </tr>\n",
       "    <tr>\n",
       "      <th>Gender</th>\n",
       "      <th></th>\n",
       "      <th></th>\n",
       "    </tr>\n",
       "  </thead>\n",
       "  <tbody>\n",
       "    <tr>\n",
       "      <td>Female</td>\n",
       "      <td>154.611961</td>\n",
       "      <td>154.129960</td>\n",
       "    </tr>\n",
       "    <tr>\n",
       "      <td>Male</td>\n",
       "      <td>153.690082</td>\n",
       "      <td>154.720387</td>\n",
       "    </tr>\n",
       "  </tbody>\n",
       "</table>\n",
       "</div>"
      ],
      "text/plain": [
       "                   Vintage            \n",
       "Vehicle_Damage          No         Yes\n",
       "Gender                                \n",
       "Female          154.611961  154.129960\n",
       "Male            153.690082  154.720387"
      ]
     },
     "execution_count": 74,
     "metadata": {},
     "output_type": "execute_result"
    }
   ],
   "source": [
    "df_pivot = df_main.pivot_table(index= 'Gender', columns = 'Vehicle_Damage', values = ['Vintage'], aggfunc = np.mean)\n",
    "\n",
    "df_pivot"
   ]
  },
  {
   "cell_type": "code",
   "execution_count": 75,
   "metadata": {
    "deletable": false,
    "editable": false
   },
   "outputs": [
    {
     "data": {
      "text/html": [
       "\n",
       "    \n",
       "    \n",
       "        <p>All tests passed!</p>\n",
       "    \n",
       "    "
      ],
      "text/plain": [
       "\n",
       "    All tests passed!\n",
       "    "
      ]
     },
     "execution_count": 75,
     "metadata": {},
     "output_type": "execute_result"
    }
   ],
   "source": [
    "grader.check(\"q12\")"
   ]
  },
  {
   "cell_type": "markdown",
   "metadata": {
    "deletable": false,
    "editable": false
   },
   "source": [
    "---\n",
    "\n",
    "To double-check your work, the cell below will rerun all of the autograder tests."
   ]
  },
  {
   "cell_type": "code",
   "execution_count": 77,
   "metadata": {
    "deletable": false,
    "editable": false
   },
   "outputs": [
    {
     "data": {
      "text/html": [
       "<p><strong>q1:</strong></p>\n",
       "\n",
       "    \n",
       "    \n",
       "        <p>All tests passed!</p>\n",
       "    \n",
       "    \n",
       "\n",
       "<p><strong>q10:</strong></p>\n",
       "\n",
       "    \n",
       "    \n",
       "        <p>All tests passed!</p>\n",
       "    \n",
       "    \n",
       "\n",
       "<p><strong>q11a:</strong></p>\n",
       "\n",
       "    \n",
       "    \n",
       "        <p>All tests passed!</p>\n",
       "    \n",
       "    \n",
       "\n",
       "<p><strong>q12:</strong></p>\n",
       "\n",
       "    \n",
       "    \n",
       "        <p>All tests passed!</p>\n",
       "    \n",
       "    \n",
       "\n",
       "<p><strong>q2:</strong></p>\n",
       "\n",
       "    \n",
       "    \n",
       "        <p>All tests passed!</p>\n",
       "    \n",
       "    \n",
       "\n",
       "<p><strong>q3:</strong></p>\n",
       "\n",
       "    \n",
       "    \n",
       "        <p>All tests passed!</p>\n",
       "    \n",
       "    \n",
       "\n",
       "<p><strong>q4:</strong></p>\n",
       "\n",
       "    \n",
       "    \n",
       "        <p>All tests passed!</p>\n",
       "    \n",
       "    \n",
       "\n",
       "<p><strong>q5:</strong></p>\n",
       "\n",
       "    \n",
       "    \n",
       "        <p>All tests passed!</p>\n",
       "    \n",
       "    \n",
       "\n",
       "<p><strong>q6:</strong></p>\n",
       "\n",
       "    \n",
       "    \n",
       "        <p>All tests passed!</p>\n",
       "    \n",
       "    \n",
       "\n",
       "<p><strong>q8:</strong></p>\n",
       "\n",
       "    \n",
       "    \n",
       "        <p>All tests passed!</p>\n",
       "    \n",
       "    \n",
       "\n",
       "<p><strong>q9:</strong></p>\n",
       "\n",
       "    \n",
       "    \n",
       "        <p>All tests passed!</p>\n",
       "    \n",
       "    \n",
       "\n"
      ],
      "text/plain": [
       "q1:\n",
       "\n",
       "    All tests passed!\n",
       "    \n",
       "\n",
       "q10:\n",
       "\n",
       "    All tests passed!\n",
       "    \n",
       "\n",
       "q11a:\n",
       "\n",
       "    All tests passed!\n",
       "    \n",
       "\n",
       "q12:\n",
       "\n",
       "    All tests passed!\n",
       "    \n",
       "\n",
       "q2:\n",
       "\n",
       "    All tests passed!\n",
       "    \n",
       "\n",
       "q3:\n",
       "\n",
       "    All tests passed!\n",
       "    \n",
       "\n",
       "q4:\n",
       "\n",
       "    All tests passed!\n",
       "    \n",
       "\n",
       "q5:\n",
       "\n",
       "    All tests passed!\n",
       "    \n",
       "\n",
       "q6:\n",
       "\n",
       "    All tests passed!\n",
       "    \n",
       "\n",
       "q8:\n",
       "\n",
       "    All tests passed!\n",
       "    \n",
       "\n",
       "q9:\n",
       "\n",
       "    All tests passed!\n",
       "    \n"
      ]
     },
     "execution_count": 77,
     "metadata": {},
     "output_type": "execute_result"
    }
   ],
   "source": [
    "grader.check_all()"
   ]
  },
  {
   "cell_type": "code",
   "execution_count": null,
   "metadata": {},
   "outputs": [],
   "source": []
  }
 ],
 "metadata": {
  "kernelspec": {
   "display_name": "Python 3",
   "language": "python",
   "name": "python3"
  },
  "language_info": {
   "codemirror_mode": {
    "name": "ipython",
    "version": 3
   },
   "file_extension": ".py",
   "mimetype": "text/x-python",
   "name": "python",
   "nbconvert_exporter": "python",
   "pygments_lexer": "ipython3",
   "version": "3.7.4"
  }
 },
 "nbformat": 4,
 "nbformat_minor": 2
}
